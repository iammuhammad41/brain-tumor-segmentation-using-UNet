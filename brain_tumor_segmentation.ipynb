{
 "cells": [
  {
   "cell_type": "code",
   "execution_count": 1,
   "id": "f00f905f",
   "metadata": {
    "_cell_guid": "b1076dfc-b9ad-4769-8c92-a6c4dae69d19",
    "_uuid": "8f2839f25d086af736a60e9eeb907d3b93b6e0e5",
    "execution": {
     "iopub.execute_input": "2025-03-24T12:38:48.106404Z",
     "iopub.status.busy": "2025-03-24T12:38:48.106174Z",
     "iopub.status.idle": "2025-03-24T12:38:57.195285Z",
     "shell.execute_reply": "2025-03-24T12:38:57.194590Z"
    },
    "papermill": {
     "duration": 9.095955,
     "end_time": "2025-03-24T12:38:57.196771",
     "exception": false,
     "start_time": "2025-03-24T12:38:48.100816",
     "status": "completed"
    },
    "tags": []
   },
   "outputs": [],
   "source": [
    "import os\n",
    "import numpy as np\n",
    "import nibabel as nib\n",
    "import cv2\n",
    "import torch\n",
    "import torch.nn as nn\n",
    "import torch.nn.functional as F\n",
    "from torch.utils.data import Dataset, DataLoader\n",
    "from torchvision.utils import make_grid\n",
    "from tqdm import tqdm\n",
    "import matplotlib.pyplot as plt\n",
    "from glob import glob\n"
   ]
  },
  {
   "cell_type": "code",
   "execution_count": 2,
   "id": "581dd5bb",
   "metadata": {
    "execution": {
     "iopub.execute_input": "2025-03-24T12:38:57.206247Z",
     "iopub.status.busy": "2025-03-24T12:38:57.205919Z",
     "iopub.status.idle": "2025-03-24T12:38:57.209794Z",
     "shell.execute_reply": "2025-03-24T12:38:57.209191Z"
    },
    "papermill": {
     "duration": 0.009705,
     "end_time": "2025-03-24T12:38:57.210974",
     "exception": false,
     "start_time": "2025-03-24T12:38:57.201269",
     "status": "completed"
    },
    "tags": []
   },
   "outputs": [],
   "source": [
    "BASE_PATH = \"/kaggle/input/brats2024-small-dataset/BraTS2024_small_dataset\"\n",
    "SAVE_PATH = \"/kaggle/working/preprocessed_cgan\"\n",
    "os.makedirs(SAVE_PATH, exist_ok=True)\n",
    "\n",
    "MODALITIES = {\n",
    "    \"t1n\": \"t1n.nii\",\n",
    "    \"t1c\": \"t1c.nii\",\n",
    "    \"t2w\": \"t2w.nii\",\n",
    "    \"t2f\": \"t2f.nii\",\n",
    "    \"seg\": \"seg.nii\"\n",
    "}\n",
    "\n",
    "IMG_SIZE = 256\n",
    "SLICES_PER_PATIENT = 20\n"
   ]
  },
  {
   "cell_type": "code",
   "execution_count": 3,
   "id": "16bceb8f",
   "metadata": {
    "execution": {
     "iopub.execute_input": "2025-03-24T12:38:57.219545Z",
     "iopub.status.busy": "2025-03-24T12:38:57.219301Z",
     "iopub.status.idle": "2025-03-24T12:39:30.365432Z",
     "shell.execute_reply": "2025-03-24T12:39:30.364272Z"
    },
    "papermill": {
     "duration": 33.152191,
     "end_time": "2025-03-24T12:39:30.367168",
     "exception": false,
     "start_time": "2025-03-24T12:38:57.214977",
     "status": "completed"
    },
    "tags": []
   },
   "outputs": [
    {
     "name": "stdout",
     "output_type": "stream",
     "text": [
      "Found 200 patients\n"
     ]
    },
    {
     "name": "stderr",
     "output_type": "stream",
     "text": [
      "100%|██████████| 50/50 [00:33<00:00,  1.51it/s]\n"
     ]
    }
   ],
   "source": [
    "def preprocess_slice(img, size=IMG_SIZE):\n",
    "    img = np.nan_to_num(img)\n",
    "    img = (img - np.min(img)) / (np.max(img) - np.min(img) + 1e-8)\n",
    "    return cv2.resize(img, (size, size), interpolation=cv2.INTER_AREA)\n",
    "\n",
    "patients = sorted(glob(os.path.join(BASE_PATH, \"*\")))\n",
    "print(\"Found\", len(patients), \"patients\")\n",
    "\n",
    "for patient in tqdm(patients[:50]):  # reduce if needed\n",
    "    pid = os.path.basename(patient)\n",
    "    volumes = {}\n",
    "\n",
    "    for mod, suffix in MODALITIES.items():\n",
    "        path = glob(os.path.join(patient, f\"*{suffix}\"))[0]\n",
    "        volumes[mod] = nib.load(path).get_fdata()\n",
    "\n",
    "    center = volumes[\"t1n\"].shape[2] // 2\n",
    "    z_range = range(center - SLICES_PER_PATIENT//2, center + SLICES_PER_PATIENT//2)\n",
    "\n",
    "    for z in z_range:\n",
    "        for mod in MODALITIES:\n",
    "            img = preprocess_slice(volumes[mod][:, :, z])\n",
    "            np.save(os.path.join(SAVE_PATH, f\"{pid}_z{z}_{mod}.npy\"), img)\n"
   ]
  },
  {
   "cell_type": "code",
   "execution_count": 4,
   "id": "5068c9a8",
   "metadata": {
    "execution": {
     "iopub.execute_input": "2025-03-24T12:39:30.384580Z",
     "iopub.status.busy": "2025-03-24T12:39:30.384229Z",
     "iopub.status.idle": "2025-03-24T12:39:30.390698Z",
     "shell.execute_reply": "2025-03-24T12:39:30.389862Z"
    },
    "papermill": {
     "duration": 0.016359,
     "end_time": "2025-03-24T12:39:30.392074",
     "exception": false,
     "start_time": "2025-03-24T12:39:30.375715",
     "status": "completed"
    },
    "tags": []
   },
   "outputs": [],
   "source": [
    "class BraTSCGANDataset(Dataset):\n",
    "    def __init__(self, path, input_mods, target_mods):\n",
    "        self.path = path\n",
    "        self.input_mods = input_mods\n",
    "        self.target_mods = target_mods\n",
    "\n",
    "        self.ids = sorted([\n",
    "            f.replace(f\"_{input_mods[0]}.npy\", \"\")\n",
    "            for f in os.listdir(path) if f.endswith(f\"_{input_mods[0]}.npy\")\n",
    "        ])\n",
    "\n",
    "    def __len__(self):\n",
    "        return len(self.ids)\n",
    "\n",
    "    def __getitem__(self, idx):\n",
    "        base = self.ids[idx]\n",
    "        inputs = [np.load(os.path.join(self.path, f\"{base}_{mod}.npy\")) for mod in self.input_mods]\n",
    "        targets = [np.load(os.path.join(self.path, f\"{base}_{mod}.npy\")) for mod in self.target_mods]\n",
    "\n",
    "        x = torch.tensor(np.stack(inputs), dtype=torch.float32)\n",
    "        y = torch.tensor(np.stack(targets), dtype=torch.float32)\n",
    "        return x, y\n"
   ]
  },
  {
   "cell_type": "code",
   "execution_count": 5,
   "id": "22800a5f",
   "metadata": {
    "execution": {
     "iopub.execute_input": "2025-03-24T12:39:30.407187Z",
     "iopub.status.busy": "2025-03-24T12:39:30.406966Z",
     "iopub.status.idle": "2025-03-24T12:39:30.502655Z",
     "shell.execute_reply": "2025-03-24T12:39:30.501931Z"
    },
    "papermill": {
     "duration": 0.104666,
     "end_time": "2025-03-24T12:39:30.504004",
     "exception": false,
     "start_time": "2025-03-24T12:39:30.399338",
     "status": "completed"
    },
    "tags": []
   },
   "outputs": [
    {
     "name": "stdout",
     "output_type": "stream",
     "text": [
      "Inputs: torch.Size([4, 3, 256, 256]) | Targets: torch.Size([4, 2, 256, 256])\n"
     ]
    }
   ],
   "source": [
    "input_mods = [\"t1n\", \"t1c\", \"t2w\"]\n",
    "target_mods = [\"t2f\", \"seg\"]\n",
    "\n",
    "dataset = BraTSCGANDataset(SAVE_PATH, input_mods, target_mods)\n",
    "dataloader = DataLoader(dataset, batch_size=4, shuffle=True)\n",
    "\n",
    "x, y = next(iter(dataloader))\n",
    "print(\"Inputs:\", x.shape, \"| Targets:\", y.shape)\n"
   ]
  },
  {
   "cell_type": "code",
   "execution_count": 6,
   "id": "9997e697",
   "metadata": {
    "execution": {
     "iopub.execute_input": "2025-03-24T12:39:30.517700Z",
     "iopub.status.busy": "2025-03-24T12:39:30.517421Z",
     "iopub.status.idle": "2025-03-24T12:39:30.524453Z",
     "shell.execute_reply": "2025-03-24T12:39:30.523847Z"
    },
    "papermill": {
     "duration": 0.015112,
     "end_time": "2025-03-24T12:39:30.525691",
     "exception": false,
     "start_time": "2025-03-24T12:39:30.510579",
     "status": "completed"
    },
    "tags": []
   },
   "outputs": [],
   "source": [
    "class GeneratorUNet(nn.Module):\n",
    "    def __init__(self, in_channels=3, out_channels=2):\n",
    "        super().__init__()\n",
    "\n",
    "        def block(in_c, out_c):\n",
    "            return nn.Sequential(\n",
    "                nn.Conv2d(in_c, out_c, 4, stride=2, padding=1),\n",
    "                nn.BatchNorm2d(out_c),\n",
    "                nn.LeakyReLU(0.2, inplace=True)\n",
    "            )\n",
    "\n",
    "        def up_block(in_c, out_c):\n",
    "            return nn.Sequential(\n",
    "                nn.ConvTranspose2d(in_c, out_c, 4, stride=2, padding=1),\n",
    "                nn.BatchNorm2d(out_c),\n",
    "                nn.ReLU(inplace=True)\n",
    "            )\n",
    "\n",
    "        self.down1 = block(in_channels, 64)\n",
    "        self.down2 = block(64, 128)\n",
    "        self.down3 = block(128, 256)\n",
    "\n",
    "        self.bottleneck = nn.Sequential(\n",
    "            nn.Conv2d(256, 512, 4, stride=2, padding=1),\n",
    "            nn.ReLU()\n",
    "        )\n",
    "\n",
    "        self.up3 = up_block(512, 256)\n",
    "        self.up2 = up_block(256 * 2, 128)\n",
    "        self.up1 = up_block(128 * 2, 64)\n",
    "\n",
    "        self.final = nn.Sequential(\n",
    "            nn.ConvTranspose2d(64 * 2, out_channels, 4, stride=2, padding=1),\n",
    "            nn.Sigmoid()\n",
    "        )\n",
    "\n",
    "    def forward(self, x):\n",
    "        d1 = self.down1(x)\n",
    "        d2 = self.down2(d1)\n",
    "        d3 = self.down3(d2)\n",
    "        b = self.bottleneck(d3)\n",
    "        u3 = self.up3(b)\n",
    "        u2 = self.up2(torch.cat([u3, d3], dim=1))\n",
    "        u1 = self.up1(torch.cat([u2, d2], dim=1))\n",
    "        return self.final(torch.cat([u1, d1], dim=1))\n"
   ]
  },
  {
   "cell_type": "code",
   "execution_count": 7,
   "id": "ada48685",
   "metadata": {
    "execution": {
     "iopub.execute_input": "2025-03-24T12:39:30.539374Z",
     "iopub.status.busy": "2025-03-24T12:39:30.539171Z",
     "iopub.status.idle": "2025-03-24T12:39:30.543390Z",
     "shell.execute_reply": "2025-03-24T12:39:30.542827Z"
    },
    "papermill": {
     "duration": 0.012122,
     "end_time": "2025-03-24T12:39:30.544453",
     "exception": false,
     "start_time": "2025-03-24T12:39:30.532331",
     "status": "completed"
    },
    "tags": []
   },
   "outputs": [],
   "source": [
    "class PatchDiscriminator(nn.Module):\n",
    "    def __init__(self, in_channels=3 + 2):  # input + target\n",
    "        super().__init__()\n",
    "        self.model = nn.Sequential(\n",
    "            nn.Conv2d(in_channels, 64, 4, stride=2, padding=1),\n",
    "            nn.LeakyReLU(0.2, inplace=True),\n",
    "            nn.Conv2d(64, 128, 4, stride=2, padding=1),\n",
    "            nn.BatchNorm2d(128),\n",
    "            nn.LeakyReLU(0.2, inplace=True),\n",
    "            nn.Conv2d(128, 1, 4, padding=1),\n",
    "            nn.Sigmoid()\n",
    "        )\n",
    "\n",
    "    def forward(self, x, y):\n",
    "        inp = torch.cat([x, y], dim=1)\n",
    "        return self.model(inp)\n"
   ]
  },
  {
   "cell_type": "code",
   "execution_count": 8,
   "id": "f605163a",
   "metadata": {
    "execution": {
     "iopub.execute_input": "2025-03-24T12:39:30.557602Z",
     "iopub.status.busy": "2025-03-24T12:39:30.557350Z",
     "iopub.status.idle": "2025-03-24T12:39:30.923167Z",
     "shell.execute_reply": "2025-03-24T12:39:30.922484Z"
    },
    "papermill": {
     "duration": 0.37389,
     "end_time": "2025-03-24T12:39:30.924686",
     "exception": false,
     "start_time": "2025-03-24T12:39:30.550796",
     "status": "completed"
    },
    "tags": []
   },
   "outputs": [],
   "source": [
    "device = torch.device(\"cuda\" if torch.cuda.is_available() else \"cpu\")\n",
    "\n",
    "generator = GeneratorUNet().to(device)\n",
    "discriminator = PatchDiscriminator().to(device)\n",
    "\n",
    "g_optimizer = torch.optim.Adam(generator.parameters(), lr=1e-4, betas=(0.5, 0.999))\n",
    "d_optimizer = torch.optim.Adam(discriminator.parameters(), lr=1e-4, betas=(0.5, 0.999))\n",
    "\n",
    "bce = nn.BCELoss()\n",
    "l1 = nn.L1Loss()\n",
    "lambda_l1 = 100  # weight for L1 loss\n",
    "\n",
    "def train_step(x, y):\n",
    "    x, y = x.to(device), y.to(device)\n",
    "\n",
    "    # Generate fake outputs from generator\n",
    "    fake_y = generator(x)\n",
    "\n",
    "    # Get discriminator output shapes\n",
    "    d_real_out = discriminator(x, y)\n",
    "    d_fake_out = discriminator(x, fake_y.detach())  # detach to avoid backprop to generator\n",
    "\n",
    "    # Dynamic label tensors based on discriminator output shape\n",
    "    real_label = torch.ones_like(d_real_out, device=device)\n",
    "    fake_label = torch.zeros_like(d_fake_out, device=device)\n",
    "\n",
    "    # Discriminator loss\n",
    "    d_loss_real = bce(d_real_out, real_label)\n",
    "    d_loss_fake = bce(d_fake_out, fake_label)\n",
    "    d_loss = 0.5 * (d_loss_real + d_loss_fake)\n",
    "\n",
    "    discriminator.zero_grad()\n",
    "    d_loss.backward()\n",
    "    d_optimizer.step()\n",
    "\n",
    "    # Generator loss\n",
    "    fake_y = generator(x)  # forward again for gradients\n",
    "    d_fake_for_g = discriminator(x, fake_y)\n",
    "    adv_loss = bce(d_fake_for_g, real_label)  # try to fool discriminator\n",
    "    l1_loss_val = l1(fake_y, y)\n",
    "    g_loss = adv_loss + lambda_l1 * l1_loss_val\n",
    "\n",
    "    generator.zero_grad()\n",
    "    g_loss.backward()\n",
    "    g_optimizer.step()\n",
    "\n",
    "    return d_loss.item(), g_loss.item(), l1_loss_val.item()"
   ]
  },
  {
   "cell_type": "code",
   "execution_count": 9,
   "id": "efec78a8",
   "metadata": {
    "execution": {
     "iopub.execute_input": "2025-03-24T12:39:30.939046Z",
     "iopub.status.busy": "2025-03-24T12:39:30.938810Z",
     "iopub.status.idle": "2025-03-24T13:16:14.560349Z",
     "shell.execute_reply": "2025-03-24T13:16:14.559389Z"
    },
    "papermill": {
     "duration": 2203.629901,
     "end_time": "2025-03-24T13:16:14.561646",
     "exception": false,
     "start_time": "2025-03-24T12:39:30.931745",
     "status": "completed"
    },
    "tags": []
   },
   "outputs": [
    {
     "name": "stderr",
     "output_type": "stream",
     "text": [
      "Epoch 1/100: 100%|██████████| 250/250 [00:21<00:00, 11.69it/s]\n"
     ]
    },
    {
     "name": "stdout",
     "output_type": "stream",
     "text": [
      "Epoch 1 | D: 113.9292 | G: 2994.5045 | L1: 26.9694\n"
     ]
    },
    {
     "name": "stderr",
     "output_type": "stream",
     "text": [
      "Epoch 2/100: 100%|██████████| 250/250 [00:20<00:00, 12.20it/s]\n"
     ]
    },
    {
     "name": "stdout",
     "output_type": "stream",
     "text": [
      "Epoch 2 | D: 135.6614 | G: 1123.7787 | L1: 8.6667\n"
     ]
    },
    {
     "name": "stderr",
     "output_type": "stream",
     "text": [
      "Epoch 3/100: 100%|██████████| 250/250 [00:21<00:00, 11.89it/s]\n"
     ]
    },
    {
     "name": "stdout",
     "output_type": "stream",
     "text": [
      "Epoch 3 | D: 150.5619 | G: 915.1511 | L1: 6.9216\n"
     ]
    },
    {
     "name": "stderr",
     "output_type": "stream",
     "text": [
      "Epoch 4/100: 100%|██████████| 250/250 [00:21<00:00, 11.47it/s]\n"
     ]
    },
    {
     "name": "stdout",
     "output_type": "stream",
     "text": [
      "Epoch 4 | D: 157.9128 | G: 817.9698 | L1: 6.1105\n"
     ]
    },
    {
     "name": "stderr",
     "output_type": "stream",
     "text": [
      "Epoch 5/100: 100%|██████████| 250/250 [00:22<00:00, 11.07it/s]\n"
     ]
    },
    {
     "name": "stdout",
     "output_type": "stream",
     "text": [
      "Epoch 5 | D: 162.3966 | G: 744.8009 | L1: 5.4658\n"
     ]
    },
    {
     "name": "stderr",
     "output_type": "stream",
     "text": [
      "Epoch 6/100: 100%|██████████| 250/250 [00:22<00:00, 11.22it/s]\n"
     ]
    },
    {
     "name": "stdout",
     "output_type": "stream",
     "text": [
      "Epoch 6 | D: 165.7780 | G: 673.1822 | L1: 4.8116\n"
     ]
    },
    {
     "name": "stderr",
     "output_type": "stream",
     "text": [
      "Epoch 7/100: 100%|██████████| 250/250 [00:21<00:00, 11.40it/s]\n"
     ]
    },
    {
     "name": "stdout",
     "output_type": "stream",
     "text": [
      "Epoch 7 | D: 167.8727 | G: 629.7451 | L1: 4.4144\n"
     ]
    },
    {
     "name": "stderr",
     "output_type": "stream",
     "text": [
      "Epoch 8/100: 100%|██████████| 250/250 [00:21<00:00, 11.38it/s]\n"
     ]
    },
    {
     "name": "stdout",
     "output_type": "stream",
     "text": [
      "Epoch 8 | D: 168.5279 | G: 594.4447 | L1: 4.0806\n"
     ]
    },
    {
     "name": "stderr",
     "output_type": "stream",
     "text": [
      "Epoch 9/100: 100%|██████████| 250/250 [00:22<00:00, 11.29it/s]\n"
     ]
    },
    {
     "name": "stdout",
     "output_type": "stream",
     "text": [
      "Epoch 9 | D: 169.0332 | G: 559.8222 | L1: 3.7494\n"
     ]
    },
    {
     "name": "stderr",
     "output_type": "stream",
     "text": [
      "Epoch 10/100: 100%|██████████| 250/250 [00:22<00:00, 11.32it/s]\n"
     ]
    },
    {
     "name": "stdout",
     "output_type": "stream",
     "text": [
      "Epoch 10 | D: 169.5388 | G: 535.7813 | L1: 3.5160\n"
     ]
    },
    {
     "name": "stderr",
     "output_type": "stream",
     "text": [
      "Epoch 11/100: 100%|██████████| 250/250 [00:22<00:00, 11.34it/s]\n"
     ]
    },
    {
     "name": "stdout",
     "output_type": "stream",
     "text": [
      "Epoch 11 | D: 169.9438 | G: 515.6130 | L1: 3.3278\n"
     ]
    },
    {
     "name": "stderr",
     "output_type": "stream",
     "text": [
      "Epoch 12/100: 100%|██████████| 250/250 [00:22<00:00, 11.34it/s]\n"
     ]
    },
    {
     "name": "stdout",
     "output_type": "stream",
     "text": [
      "Epoch 12 | D: 170.3064 | G: 500.5688 | L1: 3.1818\n"
     ]
    },
    {
     "name": "stderr",
     "output_type": "stream",
     "text": [
      "Epoch 13/100: 100%|██████████| 250/250 [00:21<00:00, 11.38it/s]\n"
     ]
    },
    {
     "name": "stdout",
     "output_type": "stream",
     "text": [
      "Epoch 13 | D: 170.3187 | G: 485.9066 | L1: 3.0410\n"
     ]
    },
    {
     "name": "stderr",
     "output_type": "stream",
     "text": [
      "Epoch 14/100: 100%|██████████| 250/250 [00:21<00:00, 11.37it/s]\n"
     ]
    },
    {
     "name": "stdout",
     "output_type": "stream",
     "text": [
      "Epoch 14 | D: 170.3804 | G: 474.6237 | L1: 2.9321\n"
     ]
    },
    {
     "name": "stderr",
     "output_type": "stream",
     "text": [
      "Epoch 15/100: 100%|██████████| 250/250 [00:22<00:00, 11.35it/s]\n"
     ]
    },
    {
     "name": "stdout",
     "output_type": "stream",
     "text": [
      "Epoch 15 | D: 170.7918 | G: 464.3286 | L1: 2.8317\n"
     ]
    },
    {
     "name": "stderr",
     "output_type": "stream",
     "text": [
      "Epoch 16/100: 100%|██████████| 250/250 [00:21<00:00, 11.37it/s]\n"
     ]
    },
    {
     "name": "stdout",
     "output_type": "stream",
     "text": [
      "Epoch 16 | D: 170.9106 | G: 456.5132 | L1: 2.7592\n"
     ]
    },
    {
     "name": "stderr",
     "output_type": "stream",
     "text": [
      "Epoch 17/100: 100%|██████████| 250/250 [00:22<00:00, 11.36it/s]\n"
     ]
    },
    {
     "name": "stdout",
     "output_type": "stream",
     "text": [
      "Epoch 17 | D: 170.4394 | G: 446.8100 | L1: 2.6602\n"
     ]
    },
    {
     "name": "stderr",
     "output_type": "stream",
     "text": [
      "Epoch 18/100: 100%|██████████| 250/250 [00:22<00:00, 11.34it/s]\n"
     ]
    },
    {
     "name": "stdout",
     "output_type": "stream",
     "text": [
      "Epoch 18 | D: 170.7930 | G: 440.0828 | L1: 2.5974\n"
     ]
    },
    {
     "name": "stderr",
     "output_type": "stream",
     "text": [
      "Epoch 19/100: 100%|██████████| 250/250 [00:22<00:00, 11.35it/s]\n"
     ]
    },
    {
     "name": "stdout",
     "output_type": "stream",
     "text": [
      "Epoch 19 | D: 170.8760 | G: 434.7704 | L1: 2.5435\n"
     ]
    },
    {
     "name": "stderr",
     "output_type": "stream",
     "text": [
      "Epoch 20/100: 100%|██████████| 250/250 [00:22<00:00, 11.31it/s]\n"
     ]
    },
    {
     "name": "stdout",
     "output_type": "stream",
     "text": [
      "Epoch 20 | D: 170.8723 | G: 427.6507 | L1: 2.4772\n"
     ]
    },
    {
     "name": "stderr",
     "output_type": "stream",
     "text": [
      "Epoch 21/100: 100%|██████████| 250/250 [00:22<00:00, 11.33it/s]\n"
     ]
    },
    {
     "name": "stdout",
     "output_type": "stream",
     "text": [
      "Epoch 21 | D: 170.8149 | G: 421.8195 | L1: 2.4182\n"
     ]
    },
    {
     "name": "stderr",
     "output_type": "stream",
     "text": [
      "Epoch 22/100: 100%|██████████| 250/250 [00:22<00:00, 11.31it/s]\n"
     ]
    },
    {
     "name": "stdout",
     "output_type": "stream",
     "text": [
      "Epoch 22 | D: 171.1189 | G: 416.7760 | L1: 2.3695\n"
     ]
    },
    {
     "name": "stderr",
     "output_type": "stream",
     "text": [
      "Epoch 23/100: 100%|██████████| 250/250 [00:22<00:00, 11.30it/s]\n"
     ]
    },
    {
     "name": "stdout",
     "output_type": "stream",
     "text": [
      "Epoch 23 | D: 171.3738 | G: 413.5948 | L1: 2.3470\n"
     ]
    },
    {
     "name": "stderr",
     "output_type": "stream",
     "text": [
      "Epoch 24/100: 100%|██████████| 250/250 [00:22<00:00, 11.30it/s]\n"
     ]
    },
    {
     "name": "stdout",
     "output_type": "stream",
     "text": [
      "Epoch 24 | D: 171.4987 | G: 406.9281 | L1: 2.2801\n"
     ]
    },
    {
     "name": "stderr",
     "output_type": "stream",
     "text": [
      "Epoch 25/100: 100%|██████████| 250/250 [00:22<00:00, 11.32it/s]\n"
     ]
    },
    {
     "name": "stdout",
     "output_type": "stream",
     "text": [
      "Epoch 25 | D: 171.6020 | G: 399.8093 | L1: 2.2116\n"
     ]
    },
    {
     "name": "stderr",
     "output_type": "stream",
     "text": [
      "Epoch 26/100: 100%|██████████| 250/250 [00:22<00:00, 11.34it/s]\n"
     ]
    },
    {
     "name": "stdout",
     "output_type": "stream",
     "text": [
      "Epoch 26 | D: 171.5634 | G: 398.2449 | L1: 2.1976\n"
     ]
    },
    {
     "name": "stderr",
     "output_type": "stream",
     "text": [
      "Epoch 27/100: 100%|██████████| 250/250 [00:22<00:00, 11.33it/s]\n"
     ]
    },
    {
     "name": "stdout",
     "output_type": "stream",
     "text": [
      "Epoch 27 | D: 171.7223 | G: 396.6647 | L1: 2.1817\n"
     ]
    },
    {
     "name": "stderr",
     "output_type": "stream",
     "text": [
      "Epoch 28/100: 100%|██████████| 250/250 [00:22<00:00, 11.34it/s]\n"
     ]
    },
    {
     "name": "stdout",
     "output_type": "stream",
     "text": [
      "Epoch 28 | D: 171.7469 | G: 390.5337 | L1: 2.1239\n"
     ]
    },
    {
     "name": "stderr",
     "output_type": "stream",
     "text": [
      "Epoch 29/100: 100%|██████████| 250/250 [00:22<00:00, 11.35it/s]\n"
     ]
    },
    {
     "name": "stdout",
     "output_type": "stream",
     "text": [
      "Epoch 29 | D: 171.8327 | G: 387.1228 | L1: 2.0930\n"
     ]
    },
    {
     "name": "stderr",
     "output_type": "stream",
     "text": [
      "Epoch 30/100: 100%|██████████| 250/250 [00:22<00:00, 11.36it/s]\n"
     ]
    },
    {
     "name": "stdout",
     "output_type": "stream",
     "text": [
      "Epoch 30 | D: 171.8427 | G: 388.4328 | L1: 2.1061\n"
     ]
    },
    {
     "name": "stderr",
     "output_type": "stream",
     "text": [
      "Epoch 31/100: 100%|██████████| 250/250 [00:22<00:00, 11.35it/s]\n"
     ]
    },
    {
     "name": "stdout",
     "output_type": "stream",
     "text": [
      "Epoch 31 | D: 171.7771 | G: 381.6329 | L1: 2.0398\n"
     ]
    },
    {
     "name": "stderr",
     "output_type": "stream",
     "text": [
      "Epoch 32/100: 100%|██████████| 250/250 [00:21<00:00, 11.37it/s]\n"
     ]
    },
    {
     "name": "stdout",
     "output_type": "stream",
     "text": [
      "Epoch 32 | D: 171.9515 | G: 378.1652 | L1: 2.0040\n"
     ]
    },
    {
     "name": "stderr",
     "output_type": "stream",
     "text": [
      "Epoch 33/100: 100%|██████████| 250/250 [00:21<00:00, 11.36it/s]\n"
     ]
    },
    {
     "name": "stdout",
     "output_type": "stream",
     "text": [
      "Epoch 33 | D: 172.0363 | G: 374.8342 | L1: 1.9717\n"
     ]
    },
    {
     "name": "stderr",
     "output_type": "stream",
     "text": [
      "Epoch 34/100: 100%|██████████| 250/250 [00:22<00:00, 11.36it/s]\n"
     ]
    },
    {
     "name": "stdout",
     "output_type": "stream",
     "text": [
      "Epoch 34 | D: 171.8929 | G: 375.2183 | L1: 1.9792\n"
     ]
    },
    {
     "name": "stderr",
     "output_type": "stream",
     "text": [
      "Epoch 35/100: 100%|██████████| 250/250 [00:21<00:00, 11.37it/s]\n"
     ]
    },
    {
     "name": "stdout",
     "output_type": "stream",
     "text": [
      "Epoch 35 | D: 172.0520 | G: 370.8705 | L1: 1.9375\n"
     ]
    },
    {
     "name": "stderr",
     "output_type": "stream",
     "text": [
      "Epoch 36/100: 100%|██████████| 250/250 [00:21<00:00, 11.37it/s]\n"
     ]
    },
    {
     "name": "stdout",
     "output_type": "stream",
     "text": [
      "Epoch 36 | D: 171.8706 | G: 369.0801 | L1: 1.9198\n"
     ]
    },
    {
     "name": "stderr",
     "output_type": "stream",
     "text": [
      "Epoch 37/100: 100%|██████████| 250/250 [00:22<00:00, 11.35it/s]\n"
     ]
    },
    {
     "name": "stdout",
     "output_type": "stream",
     "text": [
      "Epoch 37 | D: 172.0779 | G: 366.0735 | L1: 1.8905\n"
     ]
    },
    {
     "name": "stderr",
     "output_type": "stream",
     "text": [
      "Epoch 38/100: 100%|██████████| 250/250 [00:22<00:00, 11.33it/s]\n"
     ]
    },
    {
     "name": "stdout",
     "output_type": "stream",
     "text": [
      "Epoch 38 | D: 172.0366 | G: 365.2048 | L1: 1.8816\n"
     ]
    },
    {
     "name": "stderr",
     "output_type": "stream",
     "text": [
      "Epoch 39/100: 100%|██████████| 250/250 [00:22<00:00, 11.33it/s]\n"
     ]
    },
    {
     "name": "stdout",
     "output_type": "stream",
     "text": [
      "Epoch 39 | D: 172.0872 | G: 361.3662 | L1: 1.8433\n"
     ]
    },
    {
     "name": "stderr",
     "output_type": "stream",
     "text": [
      "Epoch 40/100: 100%|██████████| 250/250 [00:22<00:00, 11.32it/s]\n"
     ]
    },
    {
     "name": "stdout",
     "output_type": "stream",
     "text": [
      "Epoch 40 | D: 171.9872 | G: 358.8353 | L1: 1.8195\n"
     ]
    },
    {
     "name": "stderr",
     "output_type": "stream",
     "text": [
      "Epoch 41/100: 100%|██████████| 250/250 [00:22<00:00, 11.31it/s]\n"
     ]
    },
    {
     "name": "stdout",
     "output_type": "stream",
     "text": [
      "Epoch 41 | D: 172.1464 | G: 359.1710 | L1: 1.8235\n"
     ]
    },
    {
     "name": "stderr",
     "output_type": "stream",
     "text": [
      "Epoch 42/100: 100%|██████████| 250/250 [00:22<00:00, 11.31it/s]\n"
     ]
    },
    {
     "name": "stdout",
     "output_type": "stream",
     "text": [
      "Epoch 42 | D: 172.0056 | G: 356.2808 | L1: 1.7939\n"
     ]
    },
    {
     "name": "stderr",
     "output_type": "stream",
     "text": [
      "Epoch 43/100: 100%|██████████| 250/250 [00:22<00:00, 11.31it/s]\n"
     ]
    },
    {
     "name": "stdout",
     "output_type": "stream",
     "text": [
      "Epoch 43 | D: 172.0425 | G: 355.8894 | L1: 1.7924\n"
     ]
    },
    {
     "name": "stderr",
     "output_type": "stream",
     "text": [
      "Epoch 44/100: 100%|██████████| 250/250 [00:22<00:00, 11.30it/s]\n"
     ]
    },
    {
     "name": "stdout",
     "output_type": "stream",
     "text": [
      "Epoch 44 | D: 172.1205 | G: 352.8675 | L1: 1.7617\n"
     ]
    },
    {
     "name": "stderr",
     "output_type": "stream",
     "text": [
      "Epoch 45/100: 100%|██████████| 250/250 [00:22<00:00, 11.30it/s]\n"
     ]
    },
    {
     "name": "stdout",
     "output_type": "stream",
     "text": [
      "Epoch 45 | D: 172.0970 | G: 349.5695 | L1: 1.7296\n"
     ]
    },
    {
     "name": "stderr",
     "output_type": "stream",
     "text": [
      "Epoch 46/100: 100%|██████████| 250/250 [00:22<00:00, 11.31it/s]\n"
     ]
    },
    {
     "name": "stdout",
     "output_type": "stream",
     "text": [
      "Epoch 46 | D: 172.1457 | G: 349.7476 | L1: 1.7307\n"
     ]
    },
    {
     "name": "stderr",
     "output_type": "stream",
     "text": [
      "Epoch 47/100: 100%|██████████| 250/250 [00:22<00:00, 11.30it/s]\n"
     ]
    },
    {
     "name": "stdout",
     "output_type": "stream",
     "text": [
      "Epoch 47 | D: 172.0459 | G: 348.7485 | L1: 1.7231\n"
     ]
    },
    {
     "name": "stderr",
     "output_type": "stream",
     "text": [
      "Epoch 48/100: 100%|██████████| 250/250 [00:22<00:00, 11.30it/s]\n"
     ]
    },
    {
     "name": "stdout",
     "output_type": "stream",
     "text": [
      "Epoch 48 | D: 172.1802 | G: 349.4257 | L1: 1.7276\n"
     ]
    },
    {
     "name": "stderr",
     "output_type": "stream",
     "text": [
      "Epoch 49/100: 100%|██████████| 250/250 [00:22<00:00, 11.31it/s]\n"
     ]
    },
    {
     "name": "stdout",
     "output_type": "stream",
     "text": [
      "Epoch 49 | D: 172.2590 | G: 345.3435 | L1: 1.6879\n"
     ]
    },
    {
     "name": "stderr",
     "output_type": "stream",
     "text": [
      "Epoch 50/100: 100%|██████████| 250/250 [00:22<00:00, 11.30it/s]\n"
     ]
    },
    {
     "name": "stdout",
     "output_type": "stream",
     "text": [
      "Epoch 50 | D: 172.1290 | G: 345.7591 | L1: 1.6931\n"
     ]
    },
    {
     "name": "stderr",
     "output_type": "stream",
     "text": [
      "Epoch 51/100: 100%|██████████| 250/250 [00:22<00:00, 11.30it/s]\n"
     ]
    },
    {
     "name": "stdout",
     "output_type": "stream",
     "text": [
      "Epoch 51 | D: 172.0683 | G: 341.0977 | L1: 1.6464\n"
     ]
    },
    {
     "name": "stderr",
     "output_type": "stream",
     "text": [
      "Epoch 52/100: 100%|██████████| 250/250 [00:22<00:00, 11.33it/s]\n"
     ]
    },
    {
     "name": "stdout",
     "output_type": "stream",
     "text": [
      "Epoch 52 | D: 172.1283 | G: 339.6114 | L1: 1.6314\n"
     ]
    },
    {
     "name": "stderr",
     "output_type": "stream",
     "text": [
      "Epoch 53/100: 100%|██████████| 250/250 [00:22<00:00, 11.34it/s]\n"
     ]
    },
    {
     "name": "stdout",
     "output_type": "stream",
     "text": [
      "Epoch 53 | D: 172.1679 | G: 339.4642 | L1: 1.6308\n"
     ]
    },
    {
     "name": "stderr",
     "output_type": "stream",
     "text": [
      "Epoch 54/100: 100%|██████████| 250/250 [00:22<00:00, 11.34it/s]\n"
     ]
    },
    {
     "name": "stdout",
     "output_type": "stream",
     "text": [
      "Epoch 54 | D: 172.2148 | G: 341.3323 | L1: 1.6493\n"
     ]
    },
    {
     "name": "stderr",
     "output_type": "stream",
     "text": [
      "Epoch 55/100: 100%|██████████| 250/250 [00:22<00:00, 11.35it/s]\n"
     ]
    },
    {
     "name": "stdout",
     "output_type": "stream",
     "text": [
      "Epoch 55 | D: 172.1264 | G: 337.5193 | L1: 1.6114\n"
     ]
    },
    {
     "name": "stderr",
     "output_type": "stream",
     "text": [
      "Epoch 56/100: 100%|██████████| 250/250 [00:22<00:00, 11.36it/s]\n"
     ]
    },
    {
     "name": "stdout",
     "output_type": "stream",
     "text": [
      "Epoch 56 | D: 172.1941 | G: 339.4570 | L1: 1.6313\n"
     ]
    },
    {
     "name": "stderr",
     "output_type": "stream",
     "text": [
      "Epoch 57/100: 100%|██████████| 250/250 [00:22<00:00, 11.36it/s]\n"
     ]
    },
    {
     "name": "stdout",
     "output_type": "stream",
     "text": [
      "Epoch 57 | D: 172.1394 | G: 335.9334 | L1: 1.5970\n"
     ]
    },
    {
     "name": "stderr",
     "output_type": "stream",
     "text": [
      "Epoch 58/100: 100%|██████████| 250/250 [00:22<00:00, 11.36it/s]\n"
     ]
    },
    {
     "name": "stdout",
     "output_type": "stream",
     "text": [
      "Epoch 58 | D: 172.1537 | G: 335.1293 | L1: 1.5881\n"
     ]
    },
    {
     "name": "stderr",
     "output_type": "stream",
     "text": [
      "Epoch 59/100: 100%|██████████| 250/250 [00:21<00:00, 11.38it/s]\n"
     ]
    },
    {
     "name": "stdout",
     "output_type": "stream",
     "text": [
      "Epoch 59 | D: 172.1507 | G: 333.8254 | L1: 1.5747\n"
     ]
    },
    {
     "name": "stderr",
     "output_type": "stream",
     "text": [
      "Epoch 60/100: 100%|██████████| 250/250 [00:22<00:00, 11.34it/s]\n"
     ]
    },
    {
     "name": "stdout",
     "output_type": "stream",
     "text": [
      "Epoch 60 | D: 172.1317 | G: 333.2737 | L1: 1.5687\n"
     ]
    },
    {
     "name": "stderr",
     "output_type": "stream",
     "text": [
      "Epoch 61/100: 100%|██████████| 250/250 [00:22<00:00, 11.36it/s]\n"
     ]
    },
    {
     "name": "stdout",
     "output_type": "stream",
     "text": [
      "Epoch 61 | D: 172.0789 | G: 331.1577 | L1: 1.5464\n"
     ]
    },
    {
     "name": "stderr",
     "output_type": "stream",
     "text": [
      "Epoch 62/100: 100%|██████████| 250/250 [00:22<00:00, 11.36it/s]\n"
     ]
    },
    {
     "name": "stdout",
     "output_type": "stream",
     "text": [
      "Epoch 62 | D: 172.1495 | G: 331.4757 | L1: 1.5524\n"
     ]
    },
    {
     "name": "stderr",
     "output_type": "stream",
     "text": [
      "Epoch 63/100: 100%|██████████| 250/250 [00:22<00:00, 11.36it/s]\n"
     ]
    },
    {
     "name": "stdout",
     "output_type": "stream",
     "text": [
      "Epoch 63 | D: 172.0952 | G: 331.8847 | L1: 1.5555\n"
     ]
    },
    {
     "name": "stderr",
     "output_type": "stream",
     "text": [
      "Epoch 64/100: 100%|██████████| 250/250 [00:22<00:00, 11.34it/s]\n"
     ]
    },
    {
     "name": "stdout",
     "output_type": "stream",
     "text": [
      "Epoch 64 | D: 172.1220 | G: 331.9941 | L1: 1.5546\n"
     ]
    },
    {
     "name": "stderr",
     "output_type": "stream",
     "text": [
      "Epoch 65/100: 100%|██████████| 250/250 [00:22<00:00, 11.31it/s]\n"
     ]
    },
    {
     "name": "stdout",
     "output_type": "stream",
     "text": [
      "Epoch 65 | D: 172.1280 | G: 329.2447 | L1: 1.5283\n"
     ]
    },
    {
     "name": "stderr",
     "output_type": "stream",
     "text": [
      "Epoch 66/100: 100%|██████████| 250/250 [00:22<00:00, 11.34it/s]\n"
     ]
    },
    {
     "name": "stdout",
     "output_type": "stream",
     "text": [
      "Epoch 66 | D: 172.0343 | G: 328.3249 | L1: 1.5191\n"
     ]
    },
    {
     "name": "stderr",
     "output_type": "stream",
     "text": [
      "Epoch 67/100: 100%|██████████| 250/250 [00:22<00:00, 11.32it/s]\n"
     ]
    },
    {
     "name": "stdout",
     "output_type": "stream",
     "text": [
      "Epoch 67 | D: 172.1012 | G: 327.2940 | L1: 1.5088\n"
     ]
    },
    {
     "name": "stderr",
     "output_type": "stream",
     "text": [
      "Epoch 68/100: 100%|██████████| 250/250 [00:22<00:00, 11.32it/s]\n"
     ]
    },
    {
     "name": "stdout",
     "output_type": "stream",
     "text": [
      "Epoch 68 | D: 172.0110 | G: 327.2226 | L1: 1.5077\n"
     ]
    },
    {
     "name": "stderr",
     "output_type": "stream",
     "text": [
      "Epoch 69/100: 100%|██████████| 250/250 [00:22<00:00, 11.32it/s]\n"
     ]
    },
    {
     "name": "stdout",
     "output_type": "stream",
     "text": [
      "Epoch 69 | D: 172.1612 | G: 326.9770 | L1: 1.5058\n"
     ]
    },
    {
     "name": "stderr",
     "output_type": "stream",
     "text": [
      "Epoch 70/100: 100%|██████████| 250/250 [00:22<00:00, 11.31it/s]\n"
     ]
    },
    {
     "name": "stdout",
     "output_type": "stream",
     "text": [
      "Epoch 70 | D: 172.0466 | G: 325.0214 | L1: 1.4869\n"
     ]
    },
    {
     "name": "stderr",
     "output_type": "stream",
     "text": [
      "Epoch 71/100: 100%|██████████| 250/250 [00:22<00:00, 11.31it/s]\n"
     ]
    },
    {
     "name": "stdout",
     "output_type": "stream",
     "text": [
      "Epoch 71 | D: 172.1065 | G: 325.1453 | L1: 1.4855\n"
     ]
    },
    {
     "name": "stderr",
     "output_type": "stream",
     "text": [
      "Epoch 72/100: 100%|██████████| 250/250 [00:22<00:00, 11.31it/s]\n"
     ]
    },
    {
     "name": "stdout",
     "output_type": "stream",
     "text": [
      "Epoch 72 | D: 172.1768 | G: 323.0018 | L1: 1.4662\n"
     ]
    },
    {
     "name": "stderr",
     "output_type": "stream",
     "text": [
      "Epoch 73/100: 100%|██████████| 250/250 [00:22<00:00, 11.33it/s]\n"
     ]
    },
    {
     "name": "stdout",
     "output_type": "stream",
     "text": [
      "Epoch 73 | D: 172.1471 | G: 323.8080 | L1: 1.4738\n"
     ]
    },
    {
     "name": "stderr",
     "output_type": "stream",
     "text": [
      "Epoch 74/100: 100%|██████████| 250/250 [00:22<00:00, 11.29it/s]\n"
     ]
    },
    {
     "name": "stdout",
     "output_type": "stream",
     "text": [
      "Epoch 74 | D: 172.0991 | G: 322.1111 | L1: 1.4591\n"
     ]
    },
    {
     "name": "stderr",
     "output_type": "stream",
     "text": [
      "Epoch 75/100: 100%|██████████| 250/250 [00:22<00:00, 11.31it/s]\n"
     ]
    },
    {
     "name": "stdout",
     "output_type": "stream",
     "text": [
      "Epoch 75 | D: 172.1979 | G: 322.3388 | L1: 1.4602\n"
     ]
    },
    {
     "name": "stderr",
     "output_type": "stream",
     "text": [
      "Epoch 76/100: 100%|██████████| 250/250 [00:22<00:00, 11.32it/s]\n"
     ]
    },
    {
     "name": "stdout",
     "output_type": "stream",
     "text": [
      "Epoch 76 | D: 172.1343 | G: 321.0214 | L1: 1.4472\n"
     ]
    },
    {
     "name": "stderr",
     "output_type": "stream",
     "text": [
      "Epoch 77/100: 100%|██████████| 250/250 [00:22<00:00, 11.30it/s]\n"
     ]
    },
    {
     "name": "stdout",
     "output_type": "stream",
     "text": [
      "Epoch 77 | D: 172.1802 | G: 319.7332 | L1: 1.4343\n"
     ]
    },
    {
     "name": "stderr",
     "output_type": "stream",
     "text": [
      "Epoch 78/100: 100%|██████████| 250/250 [00:22<00:00, 11.30it/s]\n"
     ]
    },
    {
     "name": "stdout",
     "output_type": "stream",
     "text": [
      "Epoch 78 | D: 172.3056 | G: 319.9712 | L1: 1.4373\n"
     ]
    },
    {
     "name": "stderr",
     "output_type": "stream",
     "text": [
      "Epoch 79/100: 100%|██████████| 250/250 [00:22<00:00, 11.32it/s]\n"
     ]
    },
    {
     "name": "stdout",
     "output_type": "stream",
     "text": [
      "Epoch 79 | D: 174.7311 | G: 319.6039 | L1: 1.4178\n"
     ]
    },
    {
     "name": "stderr",
     "output_type": "stream",
     "text": [
      "Epoch 80/100: 100%|██████████| 250/250 [00:22<00:00, 11.33it/s]\n"
     ]
    },
    {
     "name": "stdout",
     "output_type": "stream",
     "text": [
      "Epoch 80 | D: 171.8027 | G: 315.2172 | L1: 1.3909\n"
     ]
    },
    {
     "name": "stderr",
     "output_type": "stream",
     "text": [
      "Epoch 81/100: 100%|██████████| 250/250 [00:22<00:00, 11.34it/s]\n"
     ]
    },
    {
     "name": "stdout",
     "output_type": "stream",
     "text": [
      "Epoch 81 | D: 171.8612 | G: 316.6562 | L1: 1.4077\n"
     ]
    },
    {
     "name": "stderr",
     "output_type": "stream",
     "text": [
      "Epoch 82/100: 100%|██████████| 250/250 [00:22<00:00, 11.34it/s]\n"
     ]
    },
    {
     "name": "stdout",
     "output_type": "stream",
     "text": [
      "Epoch 82 | D: 172.1122 | G: 317.2238 | L1: 1.4148\n"
     ]
    },
    {
     "name": "stderr",
     "output_type": "stream",
     "text": [
      "Epoch 83/100: 100%|██████████| 250/250 [00:22<00:00, 11.36it/s]\n"
     ]
    },
    {
     "name": "stdout",
     "output_type": "stream",
     "text": [
      "Epoch 83 | D: 172.2786 | G: 315.6816 | L1: 1.4005\n"
     ]
    },
    {
     "name": "stderr",
     "output_type": "stream",
     "text": [
      "Epoch 84/100: 100%|██████████| 250/250 [00:22<00:00, 11.34it/s]\n"
     ]
    },
    {
     "name": "stdout",
     "output_type": "stream",
     "text": [
      "Epoch 84 | D: 172.3844 | G: 314.3365 | L1: 1.3857\n"
     ]
    },
    {
     "name": "stderr",
     "output_type": "stream",
     "text": [
      "Epoch 85/100: 100%|██████████| 250/250 [00:22<00:00, 11.36it/s]\n"
     ]
    },
    {
     "name": "stdout",
     "output_type": "stream",
     "text": [
      "Epoch 85 | D: 172.3802 | G: 315.0721 | L1: 1.3949\n"
     ]
    },
    {
     "name": "stderr",
     "output_type": "stream",
     "text": [
      "Epoch 86/100: 100%|██████████| 250/250 [00:22<00:00, 11.36it/s]\n"
     ]
    },
    {
     "name": "stdout",
     "output_type": "stream",
     "text": [
      "Epoch 86 | D: 172.4027 | G: 316.6615 | L1: 1.4097\n"
     ]
    },
    {
     "name": "stderr",
     "output_type": "stream",
     "text": [
      "Epoch 87/100: 100%|██████████| 250/250 [00:22<00:00, 11.36it/s]\n"
     ]
    },
    {
     "name": "stdout",
     "output_type": "stream",
     "text": [
      "Epoch 87 | D: 172.4842 | G: 314.2588 | L1: 1.3854\n"
     ]
    },
    {
     "name": "stderr",
     "output_type": "stream",
     "text": [
      "Epoch 88/100: 100%|██████████| 250/250 [00:22<00:00, 11.29it/s]\n"
     ]
    },
    {
     "name": "stdout",
     "output_type": "stream",
     "text": [
      "Epoch 88 | D: 172.4018 | G: 313.8560 | L1: 1.3822\n"
     ]
    },
    {
     "name": "stderr",
     "output_type": "stream",
     "text": [
      "Epoch 89/100: 100%|██████████| 250/250 [00:22<00:00, 11.33it/s]\n"
     ]
    },
    {
     "name": "stdout",
     "output_type": "stream",
     "text": [
      "Epoch 89 | D: 172.5313 | G: 312.0710 | L1: 1.3623\n"
     ]
    },
    {
     "name": "stderr",
     "output_type": "stream",
     "text": [
      "Epoch 90/100: 100%|██████████| 250/250 [00:22<00:00, 11.32it/s]\n"
     ]
    },
    {
     "name": "stdout",
     "output_type": "stream",
     "text": [
      "Epoch 90 | D: 172.4298 | G: 312.0997 | L1: 1.3646\n"
     ]
    },
    {
     "name": "stderr",
     "output_type": "stream",
     "text": [
      "Epoch 91/100: 100%|██████████| 250/250 [00:22<00:00, 11.31it/s]\n"
     ]
    },
    {
     "name": "stdout",
     "output_type": "stream",
     "text": [
      "Epoch 91 | D: 172.4742 | G: 311.7840 | L1: 1.3603\n"
     ]
    },
    {
     "name": "stderr",
     "output_type": "stream",
     "text": [
      "Epoch 92/100: 100%|██████████| 250/250 [00:22<00:00, 11.30it/s]\n"
     ]
    },
    {
     "name": "stdout",
     "output_type": "stream",
     "text": [
      "Epoch 92 | D: 172.4336 | G: 310.8706 | L1: 1.3519\n"
     ]
    },
    {
     "name": "stderr",
     "output_type": "stream",
     "text": [
      "Epoch 93/100: 100%|██████████| 250/250 [00:22<00:00, 11.32it/s]\n"
     ]
    },
    {
     "name": "stdout",
     "output_type": "stream",
     "text": [
      "Epoch 93 | D: 172.5088 | G: 310.1875 | L1: 1.3445\n"
     ]
    },
    {
     "name": "stderr",
     "output_type": "stream",
     "text": [
      "Epoch 94/100: 100%|██████████| 250/250 [00:22<00:00, 11.30it/s]\n"
     ]
    },
    {
     "name": "stdout",
     "output_type": "stream",
     "text": [
      "Epoch 94 | D: 172.4972 | G: 310.0053 | L1: 1.3434\n"
     ]
    },
    {
     "name": "stderr",
     "output_type": "stream",
     "text": [
      "Epoch 95/100: 100%|██████████| 250/250 [00:22<00:00, 11.33it/s]\n"
     ]
    },
    {
     "name": "stdout",
     "output_type": "stream",
     "text": [
      "Epoch 95 | D: 172.4445 | G: 308.8836 | L1: 1.3322\n"
     ]
    },
    {
     "name": "stderr",
     "output_type": "stream",
     "text": [
      "Epoch 96/100: 100%|██████████| 250/250 [00:22<00:00, 11.32it/s]\n"
     ]
    },
    {
     "name": "stdout",
     "output_type": "stream",
     "text": [
      "Epoch 96 | D: 172.6583 | G: 309.9191 | L1: 1.3407\n"
     ]
    },
    {
     "name": "stderr",
     "output_type": "stream",
     "text": [
      "Epoch 97/100: 100%|██████████| 250/250 [00:22<00:00, 11.31it/s]\n"
     ]
    },
    {
     "name": "stdout",
     "output_type": "stream",
     "text": [
      "Epoch 97 | D: 172.3889 | G: 309.9089 | L1: 1.3428\n"
     ]
    },
    {
     "name": "stderr",
     "output_type": "stream",
     "text": [
      "Epoch 98/100: 100%|██████████| 250/250 [00:22<00:00, 11.32it/s]\n"
     ]
    },
    {
     "name": "stdout",
     "output_type": "stream",
     "text": [
      "Epoch 98 | D: 172.8394 | G: 309.5928 | L1: 1.3372\n"
     ]
    },
    {
     "name": "stderr",
     "output_type": "stream",
     "text": [
      "Epoch 99/100: 100%|██████████| 250/250 [00:22<00:00, 11.33it/s]\n"
     ]
    },
    {
     "name": "stdout",
     "output_type": "stream",
     "text": [
      "Epoch 99 | D: 172.3906 | G: 306.6033 | L1: 1.3105\n"
     ]
    },
    {
     "name": "stderr",
     "output_type": "stream",
     "text": [
      "Epoch 100/100: 100%|██████████| 250/250 [00:22<00:00, 11.33it/s]"
     ]
    },
    {
     "name": "stdout",
     "output_type": "stream",
     "text": [
      "Epoch 100 | D: 172.5404 | G: 310.1160 | L1: 1.3464\n"
     ]
    },
    {
     "name": "stderr",
     "output_type": "stream",
     "text": [
      "\n"
     ]
    }
   ],
   "source": [
    "EPOCHS = 100\n",
    "losses_g, losses_d, l1s = [], [], []\n",
    "\n",
    "for epoch in range(1, EPOCHS + 1):\n",
    "    g_epoch_loss, d_epoch_loss, l1_epoch = 0, 0, 0\n",
    "    for x, y in tqdm(dataloader, desc=f\"Epoch {epoch}/{EPOCHS}\"):\n",
    "        d_loss, g_loss, l1_loss_val = train_step(x, y)\n",
    "        d_epoch_loss += d_loss\n",
    "        g_epoch_loss += g_loss\n",
    "        l1_epoch += l1_loss_val\n",
    "\n",
    "    print(f\"Epoch {epoch} | D: {d_epoch_loss:.4f} | G: {g_epoch_loss:.4f} | L1: {l1_epoch:.4f}\")\n",
    "    losses_d.append(d_epoch_loss)\n",
    "    losses_g.append(g_epoch_loss)\n",
    "    l1s.append(l1_epoch)\n"
   ]
  },
  {
   "cell_type": "code",
   "execution_count": 10,
   "id": "924cc49e",
   "metadata": {
    "execution": {
     "iopub.execute_input": "2025-03-24T13:16:15.776233Z",
     "iopub.status.busy": "2025-03-24T13:16:15.775954Z",
     "iopub.status.idle": "2025-03-24T13:16:27.369235Z",
     "shell.execute_reply": "2025-03-24T13:16:27.368152Z"
    },
    "papermill": {
     "duration": 12.178952,
     "end_time": "2025-03-24T13:16:27.370819",
     "exception": false,
     "start_time": "2025-03-24T13:16:15.191867",
     "status": "completed"
    },
    "tags": []
   },
   "outputs": [
    {
     "name": "stdout",
     "output_type": "stream",
     "text": [
      "✅ SSIM (T2f): 0.9569\n",
      "✅ PSNR (T2f): 35.5748\n"
     ]
    }
   ],
   "source": [
    "from skimage.metrics import structural_similarity, peak_signal_noise_ratio\n",
    "\n",
    "def evaluate(generator, dataloader):\n",
    "    generator.eval()\n",
    "    ssim_total, psnr_total = [], []\n",
    "    with torch.no_grad():\n",
    "        for x, y in dataloader:\n",
    "            x = x.to(device)\n",
    "            preds = generator(x).cpu().numpy()\n",
    "            targets = y.numpy()\n",
    "\n",
    "            preds = np.clip(preds, 0, 1)\n",
    "            targets = np.clip(targets, 0, 1)\n",
    "\n",
    "            for i in range(preds.shape[0]):\n",
    "                psnr_total.append(peak_signal_noise_ratio(targets[i][0], preds[i][0], data_range=1.0))\n",
    "                ssim_total.append(structural_similarity(targets[i][0], preds[i][0], data_range=1.0))\n",
    "\n",
    "    return np.mean(ssim_total), np.mean(psnr_total)\n",
    "\n",
    "# Run this after training\n",
    "ssim_val, psnr_val = evaluate(generator, dataloader)\n",
    "print(f\"✅ SSIM (T2f): {ssim_val:.4f}\")\n",
    "print(f\"✅ PSNR (T2f): {psnr_val:.4f}\")\n"
   ]
  },
  {
   "cell_type": "code",
   "execution_count": 11,
   "id": "605e4297",
   "metadata": {
    "execution": {
     "iopub.execute_input": "2025-03-24T13:16:28.594458Z",
     "iopub.status.busy": "2025-03-24T13:16:28.593983Z",
     "iopub.status.idle": "2025-03-24T13:34:39.661851Z",
     "shell.execute_reply": "2025-03-24T13:34:39.660690Z"
    },
    "papermill": {
     "duration": 1091.653666,
     "end_time": "2025-03-24T13:34:39.663531",
     "exception": false,
     "start_time": "2025-03-24T13:16:28.009865",
     "status": "completed"
    },
    "tags": []
   },
   "outputs": [
    {
     "name": "stderr",
     "output_type": "stream",
     "text": [
      "Epoch 101/150: 100%|██████████| 250/250 [00:21<00:00, 11.39it/s]\n"
     ]
    },
    {
     "name": "stdout",
     "output_type": "stream",
     "text": [
      "Epoch 101 | D: 172.8005 | G: 347.7478 | L1: 1.7167\n"
     ]
    },
    {
     "name": "stderr",
     "output_type": "stream",
     "text": [
      "Epoch 102/150: 100%|██████████| 250/250 [00:22<00:00, 11.15it/s]\n"
     ]
    },
    {
     "name": "stdout",
     "output_type": "stream",
     "text": [
      "Epoch 102 | D: 172.5167 | G: 312.0998 | L1: 1.3676\n"
     ]
    },
    {
     "name": "stderr",
     "output_type": "stream",
     "text": [
      "Epoch 103/150: 100%|██████████| 250/250 [00:21<00:00, 11.51it/s]\n"
     ]
    },
    {
     "name": "stdout",
     "output_type": "stream",
     "text": [
      "Epoch 103 | D: 172.4584 | G: 307.2518 | L1: 1.3190\n"
     ]
    },
    {
     "name": "stderr",
     "output_type": "stream",
     "text": [
      "Epoch 104/150: 100%|██████████| 250/250 [00:21<00:00, 11.60it/s]\n"
     ]
    },
    {
     "name": "stdout",
     "output_type": "stream",
     "text": [
      "Epoch 104 | D: 172.5784 | G: 306.5410 | L1: 1.3110\n"
     ]
    },
    {
     "name": "stderr",
     "output_type": "stream",
     "text": [
      "Epoch 105/150: 100%|██████████| 250/250 [00:21<00:00, 11.45it/s]\n"
     ]
    },
    {
     "name": "stdout",
     "output_type": "stream",
     "text": [
      "Epoch 105 | D: 172.5088 | G: 303.4252 | L1: 1.2799\n"
     ]
    },
    {
     "name": "stderr",
     "output_type": "stream",
     "text": [
      "Epoch 106/150: 100%|██████████| 250/250 [00:21<00:00, 11.41it/s]\n"
     ]
    },
    {
     "name": "stdout",
     "output_type": "stream",
     "text": [
      "Epoch 106 | D: 172.5952 | G: 303.6372 | L1: 1.2819\n"
     ]
    },
    {
     "name": "stderr",
     "output_type": "stream",
     "text": [
      "Epoch 107/150: 100%|██████████| 250/250 [00:21<00:00, 11.47it/s]\n"
     ]
    },
    {
     "name": "stdout",
     "output_type": "stream",
     "text": [
      "Epoch 107 | D: 172.5245 | G: 302.7156 | L1: 1.2731\n"
     ]
    },
    {
     "name": "stderr",
     "output_type": "stream",
     "text": [
      "Epoch 108/150: 100%|██████████| 250/250 [00:21<00:00, 11.50it/s]\n"
     ]
    },
    {
     "name": "stdout",
     "output_type": "stream",
     "text": [
      "Epoch 108 | D: 174.9064 | G: 306.5682 | L1: 1.2930\n"
     ]
    },
    {
     "name": "stderr",
     "output_type": "stream",
     "text": [
      "Epoch 109/150: 100%|██████████| 250/250 [00:21<00:00, 11.49it/s]\n"
     ]
    },
    {
     "name": "stdout",
     "output_type": "stream",
     "text": [
      "Epoch 109 | D: 173.0502 | G: 298.0962 | L1: 1.2351\n"
     ]
    },
    {
     "name": "stderr",
     "output_type": "stream",
     "text": [
      "Epoch 110/150: 100%|██████████| 250/250 [00:21<00:00, 11.47it/s]\n"
     ]
    },
    {
     "name": "stdout",
     "output_type": "stream",
     "text": [
      "Epoch 110 | D: 172.1707 | G: 299.6452 | L1: 1.2373\n"
     ]
    },
    {
     "name": "stderr",
     "output_type": "stream",
     "text": [
      "Epoch 111/150: 100%|██████████| 250/250 [00:21<00:00, 11.44it/s]\n"
     ]
    },
    {
     "name": "stdout",
     "output_type": "stream",
     "text": [
      "Epoch 111 | D: 172.1113 | G: 299.2757 | L1: 1.2339\n"
     ]
    },
    {
     "name": "stderr",
     "output_type": "stream",
     "text": [
      "Epoch 112/150: 100%|██████████| 250/250 [00:21<00:00, 11.44it/s]\n"
     ]
    },
    {
     "name": "stdout",
     "output_type": "stream",
     "text": [
      "Epoch 112 | D: 172.4259 | G: 303.1184 | L1: 1.2773\n"
     ]
    },
    {
     "name": "stderr",
     "output_type": "stream",
     "text": [
      "Epoch 113/150: 100%|██████████| 250/250 [00:21<00:00, 11.43it/s]\n"
     ]
    },
    {
     "name": "stdout",
     "output_type": "stream",
     "text": [
      "Epoch 113 | D: 172.4380 | G: 299.7029 | L1: 1.2440\n"
     ]
    },
    {
     "name": "stderr",
     "output_type": "stream",
     "text": [
      "Epoch 114/150: 100%|██████████| 250/250 [00:21<00:00, 11.43it/s]\n"
     ]
    },
    {
     "name": "stdout",
     "output_type": "stream",
     "text": [
      "Epoch 114 | D: 172.5621 | G: 299.3559 | L1: 1.2414\n"
     ]
    },
    {
     "name": "stderr",
     "output_type": "stream",
     "text": [
      "Epoch 115/150: 100%|██████████| 250/250 [00:21<00:00, 11.42it/s]\n"
     ]
    },
    {
     "name": "stdout",
     "output_type": "stream",
     "text": [
      "Epoch 115 | D: 172.5550 | G: 299.1968 | L1: 1.2399\n"
     ]
    },
    {
     "name": "stderr",
     "output_type": "stream",
     "text": [
      "Epoch 116/150: 100%|██████████| 250/250 [00:21<00:00, 11.45it/s]\n"
     ]
    },
    {
     "name": "stdout",
     "output_type": "stream",
     "text": [
      "Epoch 116 | D: 172.5855 | G: 300.6333 | L1: 1.2546\n"
     ]
    },
    {
     "name": "stderr",
     "output_type": "stream",
     "text": [
      "Epoch 117/150: 100%|██████████| 250/250 [00:21<00:00, 11.46it/s]\n"
     ]
    },
    {
     "name": "stdout",
     "output_type": "stream",
     "text": [
      "Epoch 117 | D: 172.6316 | G: 299.4830 | L1: 1.2430\n"
     ]
    },
    {
     "name": "stderr",
     "output_type": "stream",
     "text": [
      "Epoch 118/150: 100%|██████████| 250/250 [00:21<00:00, 11.46it/s]\n"
     ]
    },
    {
     "name": "stdout",
     "output_type": "stream",
     "text": [
      "Epoch 118 | D: 172.7054 | G: 298.7612 | L1: 1.2346\n"
     ]
    },
    {
     "name": "stderr",
     "output_type": "stream",
     "text": [
      "Epoch 119/150: 100%|██████████| 250/250 [00:21<00:00, 11.47it/s]\n"
     ]
    },
    {
     "name": "stdout",
     "output_type": "stream",
     "text": [
      "Epoch 119 | D: 172.7128 | G: 298.1696 | L1: 1.2276\n"
     ]
    },
    {
     "name": "stderr",
     "output_type": "stream",
     "text": [
      "Epoch 120/150: 100%|██████████| 250/250 [00:21<00:00, 11.48it/s]\n"
     ]
    },
    {
     "name": "stdout",
     "output_type": "stream",
     "text": [
      "Epoch 120 | D: 172.7769 | G: 297.8173 | L1: 1.2264\n"
     ]
    },
    {
     "name": "stderr",
     "output_type": "stream",
     "text": [
      "Epoch 121/150: 100%|██████████| 250/250 [00:21<00:00, 11.46it/s]\n"
     ]
    },
    {
     "name": "stdout",
     "output_type": "stream",
     "text": [
      "Epoch 121 | D: 172.5727 | G: 298.2993 | L1: 1.2319\n"
     ]
    },
    {
     "name": "stderr",
     "output_type": "stream",
     "text": [
      "Epoch 122/150: 100%|██████████| 250/250 [00:21<00:00, 11.47it/s]\n"
     ]
    },
    {
     "name": "stdout",
     "output_type": "stream",
     "text": [
      "Epoch 122 | D: 172.6208 | G: 295.7277 | L1: 1.2059\n"
     ]
    },
    {
     "name": "stderr",
     "output_type": "stream",
     "text": [
      "Epoch 123/150: 100%|██████████| 250/250 [00:21<00:00, 11.48it/s]\n"
     ]
    },
    {
     "name": "stdout",
     "output_type": "stream",
     "text": [
      "Epoch 123 | D: 172.5992 | G: 295.7186 | L1: 1.2054\n"
     ]
    },
    {
     "name": "stderr",
     "output_type": "stream",
     "text": [
      "Epoch 124/150: 100%|██████████| 250/250 [00:21<00:00, 11.48it/s]\n"
     ]
    },
    {
     "name": "stdout",
     "output_type": "stream",
     "text": [
      "Epoch 124 | D: 172.6914 | G: 296.7067 | L1: 1.2146\n"
     ]
    },
    {
     "name": "stderr",
     "output_type": "stream",
     "text": [
      "Epoch 125/150: 100%|██████████| 250/250 [00:21<00:00, 11.49it/s]\n"
     ]
    },
    {
     "name": "stdout",
     "output_type": "stream",
     "text": [
      "Epoch 125 | D: 172.6540 | G: 298.9972 | L1: 1.2379\n"
     ]
    },
    {
     "name": "stderr",
     "output_type": "stream",
     "text": [
      "Epoch 126/150: 100%|██████████| 250/250 [00:21<00:00, 11.48it/s]\n"
     ]
    },
    {
     "name": "stdout",
     "output_type": "stream",
     "text": [
      "Epoch 126 | D: 174.3616 | G: 294.5720 | L1: 1.1880\n"
     ]
    },
    {
     "name": "stderr",
     "output_type": "stream",
     "text": [
      "Epoch 127/150: 100%|██████████| 250/250 [00:21<00:00, 11.50it/s]\n"
     ]
    },
    {
     "name": "stdout",
     "output_type": "stream",
     "text": [
      "Epoch 127 | D: 171.9873 | G: 292.7330 | L1: 1.1681\n"
     ]
    },
    {
     "name": "stderr",
     "output_type": "stream",
     "text": [
      "Epoch 128/150: 100%|██████████| 250/250 [00:21<00:00, 11.49it/s]\n"
     ]
    },
    {
     "name": "stdout",
     "output_type": "stream",
     "text": [
      "Epoch 128 | D: 172.2915 | G: 294.7294 | L1: 1.1951\n"
     ]
    },
    {
     "name": "stderr",
     "output_type": "stream",
     "text": [
      "Epoch 129/150: 100%|██████████| 250/250 [00:21<00:00, 11.48it/s]\n"
     ]
    },
    {
     "name": "stdout",
     "output_type": "stream",
     "text": [
      "Epoch 129 | D: 172.5285 | G: 294.1937 | L1: 1.1905\n"
     ]
    },
    {
     "name": "stderr",
     "output_type": "stream",
     "text": [
      "Epoch 130/150: 100%|██████████| 250/250 [00:21<00:00, 11.50it/s]\n"
     ]
    },
    {
     "name": "stdout",
     "output_type": "stream",
     "text": [
      "Epoch 130 | D: 172.6161 | G: 293.8286 | L1: 1.1870\n"
     ]
    },
    {
     "name": "stderr",
     "output_type": "stream",
     "text": [
      "Epoch 131/150: 100%|██████████| 250/250 [00:21<00:00, 11.49it/s]\n"
     ]
    },
    {
     "name": "stdout",
     "output_type": "stream",
     "text": [
      "Epoch 131 | D: 172.6165 | G: 292.8796 | L1: 1.1784\n"
     ]
    },
    {
     "name": "stderr",
     "output_type": "stream",
     "text": [
      "Epoch 132/150: 100%|██████████| 250/250 [00:21<00:00, 11.48it/s]\n"
     ]
    },
    {
     "name": "stdout",
     "output_type": "stream",
     "text": [
      "Epoch 132 | D: 172.6274 | G: 296.0540 | L1: 1.2107\n"
     ]
    },
    {
     "name": "stderr",
     "output_type": "stream",
     "text": [
      "Epoch 133/150: 100%|██████████| 250/250 [00:21<00:00, 11.49it/s]\n"
     ]
    },
    {
     "name": "stdout",
     "output_type": "stream",
     "text": [
      "Epoch 133 | D: 172.6709 | G: 292.1136 | L1: 1.1707\n"
     ]
    },
    {
     "name": "stderr",
     "output_type": "stream",
     "text": [
      "Epoch 134/150: 100%|██████████| 250/250 [00:21<00:00, 11.48it/s]\n"
     ]
    },
    {
     "name": "stdout",
     "output_type": "stream",
     "text": [
      "Epoch 134 | D: 172.6438 | G: 293.3016 | L1: 1.1819\n"
     ]
    },
    {
     "name": "stderr",
     "output_type": "stream",
     "text": [
      "Epoch 135/150: 100%|██████████| 250/250 [00:21<00:00, 11.47it/s]\n"
     ]
    },
    {
     "name": "stdout",
     "output_type": "stream",
     "text": [
      "Epoch 135 | D: 172.7008 | G: 290.3686 | L1: 1.1512\n"
     ]
    },
    {
     "name": "stderr",
     "output_type": "stream",
     "text": [
      "Epoch 136/150: 100%|██████████| 250/250 [00:21<00:00, 11.46it/s]\n"
     ]
    },
    {
     "name": "stdout",
     "output_type": "stream",
     "text": [
      "Epoch 136 | D: 172.7590 | G: 292.9592 | L1: 1.1761\n"
     ]
    },
    {
     "name": "stderr",
     "output_type": "stream",
     "text": [
      "Epoch 137/150: 100%|██████████| 250/250 [00:21<00:00, 11.45it/s]\n"
     ]
    },
    {
     "name": "stdout",
     "output_type": "stream",
     "text": [
      "Epoch 137 | D: 172.6692 | G: 293.2386 | L1: 1.1809\n"
     ]
    },
    {
     "name": "stderr",
     "output_type": "stream",
     "text": [
      "Epoch 138/150: 100%|██████████| 250/250 [00:21<00:00, 11.45it/s]\n"
     ]
    },
    {
     "name": "stdout",
     "output_type": "stream",
     "text": [
      "Epoch 138 | D: 172.7285 | G: 293.1052 | L1: 1.1794\n"
     ]
    },
    {
     "name": "stderr",
     "output_type": "stream",
     "text": [
      "Epoch 139/150: 100%|██████████| 250/250 [00:21<00:00, 11.45it/s]\n"
     ]
    },
    {
     "name": "stdout",
     "output_type": "stream",
     "text": [
      "Epoch 139 | D: 172.6323 | G: 291.6422 | L1: 1.1658\n"
     ]
    },
    {
     "name": "stderr",
     "output_type": "stream",
     "text": [
      "Epoch 140/150: 100%|██████████| 250/250 [00:21<00:00, 11.46it/s]\n"
     ]
    },
    {
     "name": "stdout",
     "output_type": "stream",
     "text": [
      "Epoch 140 | D: 172.6644 | G: 290.7099 | L1: 1.1566\n"
     ]
    },
    {
     "name": "stderr",
     "output_type": "stream",
     "text": [
      "Epoch 141/150: 100%|██████████| 250/250 [00:21<00:00, 11.46it/s]\n"
     ]
    },
    {
     "name": "stdout",
     "output_type": "stream",
     "text": [
      "Epoch 141 | D: 174.1338 | G: 292.5517 | L1: 1.1656\n"
     ]
    },
    {
     "name": "stderr",
     "output_type": "stream",
     "text": [
      "Epoch 142/150: 100%|██████████| 250/250 [00:21<00:00, 11.44it/s]\n"
     ]
    },
    {
     "name": "stdout",
     "output_type": "stream",
     "text": [
      "Epoch 142 | D: 173.0399 | G: 286.8817 | L1: 1.1253\n"
     ]
    },
    {
     "name": "stderr",
     "output_type": "stream",
     "text": [
      "Epoch 143/150: 100%|██████████| 250/250 [00:21<00:00, 11.44it/s]\n"
     ]
    },
    {
     "name": "stdout",
     "output_type": "stream",
     "text": [
      "Epoch 143 | D: 172.0310 | G: 288.8153 | L1: 1.1316\n"
     ]
    },
    {
     "name": "stderr",
     "output_type": "stream",
     "text": [
      "Epoch 144/150: 100%|██████████| 250/250 [00:21<00:00, 11.44it/s]\n"
     ]
    },
    {
     "name": "stdout",
     "output_type": "stream",
     "text": [
      "Epoch 144 | D: 172.0685 | G: 290.2207 | L1: 1.1475\n"
     ]
    },
    {
     "name": "stderr",
     "output_type": "stream",
     "text": [
      "Epoch 145/150: 100%|██████████| 250/250 [00:21<00:00, 11.45it/s]\n"
     ]
    },
    {
     "name": "stdout",
     "output_type": "stream",
     "text": [
      "Epoch 145 | D: 172.5614 | G: 291.9421 | L1: 1.1662\n"
     ]
    },
    {
     "name": "stderr",
     "output_type": "stream",
     "text": [
      "Epoch 146/150: 100%|██████████| 250/250 [00:21<00:00, 11.46it/s]\n"
     ]
    },
    {
     "name": "stdout",
     "output_type": "stream",
     "text": [
      "Epoch 146 | D: 172.5073 | G: 287.9991 | L1: 1.1279\n"
     ]
    },
    {
     "name": "stderr",
     "output_type": "stream",
     "text": [
      "Epoch 147/150: 100%|██████████| 250/250 [00:21<00:00, 11.46it/s]\n"
     ]
    },
    {
     "name": "stdout",
     "output_type": "stream",
     "text": [
      "Epoch 147 | D: 172.8460 | G: 287.9615 | L1: 1.1235\n"
     ]
    },
    {
     "name": "stderr",
     "output_type": "stream",
     "text": [
      "Epoch 148/150: 100%|██████████| 250/250 [00:21<00:00, 11.48it/s]\n"
     ]
    },
    {
     "name": "stdout",
     "output_type": "stream",
     "text": [
      "Epoch 148 | D: 173.2000 | G: 289.3855 | L1: 1.1346\n"
     ]
    },
    {
     "name": "stderr",
     "output_type": "stream",
     "text": [
      "Epoch 149/150: 100%|██████████| 250/250 [00:21<00:00, 11.48it/s]\n"
     ]
    },
    {
     "name": "stdout",
     "output_type": "stream",
     "text": [
      "Epoch 149 | D: 166.2387 | G: 304.3536 | L1: 1.1702\n"
     ]
    },
    {
     "name": "stderr",
     "output_type": "stream",
     "text": [
      "Epoch 150/150: 100%|██████████| 250/250 [00:21<00:00, 11.48it/s]\n"
     ]
    },
    {
     "name": "stdout",
     "output_type": "stream",
     "text": [
      "Epoch 150 | D: 162.6212 | G: 315.0909 | L1: 1.2008\n"
     ]
    }
   ],
   "source": [
    "start_epoch = 101\n",
    "end_epoch = 150\n",
    "\n",
    "for epoch in range(start_epoch, end_epoch + 1):\n",
    "    g_epoch_loss, d_epoch_loss, l1_epoch = 0, 0, 0\n",
    "    for x, y in tqdm(dataloader, desc=f\"Epoch {epoch}/{end_epoch}\"):\n",
    "        d_loss, g_loss, l1_loss_val = train_step(x, y)\n",
    "        d_epoch_loss += d_loss\n",
    "        g_epoch_loss += g_loss\n",
    "        l1_epoch += l1_loss_val\n",
    "\n",
    "    print(f\"Epoch {epoch} | D: {d_epoch_loss:.4f} | G: {g_epoch_loss:.4f} | L1: {l1_epoch:.4f}\")\n",
    "    losses_d.append(d_epoch_loss)\n",
    "    losses_g.append(g_epoch_loss)\n",
    "    l1s.append(l1_epoch)\n",
    "\n",
    "    # Save checkpoint every 10 epochs\n",
    "    if epoch % 10 == 0:\n",
    "        torch.save(generator.state_dict(), f\"cgan_t2f_seg_epoch{epoch}.pth\")\n"
   ]
  },
  {
   "cell_type": "code",
   "execution_count": 12,
   "id": "fa2bbdad",
   "metadata": {
    "execution": {
     "iopub.execute_input": "2025-03-24T13:34:41.582227Z",
     "iopub.status.busy": "2025-03-24T13:34:41.581916Z",
     "iopub.status.idle": "2025-03-24T13:34:52.102425Z",
     "shell.execute_reply": "2025-03-24T13:34:52.101400Z"
    },
    "papermill": {
     "duration": 11.502958,
     "end_time": "2025-03-24T13:34:52.103825",
     "exception": false,
     "start_time": "2025-03-24T13:34:40.600867",
     "status": "completed"
    },
    "tags": []
   },
   "outputs": [
    {
     "name": "stdout",
     "output_type": "stream",
     "text": [
      "✅ SSIM (T2f): 0.9626\n",
      "✅ PSNR (T2f): 36.2099\n"
     ]
    }
   ],
   "source": [
    "from skimage.metrics import structural_similarity, peak_signal_noise_ratio\n",
    "\n",
    "def evaluate(generator, dataloader):\n",
    "    generator.eval()\n",
    "    ssim_total, psnr_total = [], []\n",
    "    with torch.no_grad():\n",
    "        for x, y in dataloader:\n",
    "            x = x.to(device)\n",
    "            preds = generator(x).cpu().numpy()\n",
    "            targets = y.numpy()\n",
    "\n",
    "            preds = np.clip(preds, 0, 1)\n",
    "            targets = np.clip(targets, 0, 1)\n",
    "\n",
    "            for i in range(preds.shape[0]):\n",
    "                psnr_total.append(peak_signal_noise_ratio(targets[i][0], preds[i][0], data_range=1.0))\n",
    "                ssim_total.append(structural_similarity(targets[i][0], preds[i][0], data_range=1.0))\n",
    "\n",
    "    return np.mean(ssim_total), np.mean(psnr_total)\n",
    "\n",
    "# Run this after training\n",
    "ssim_val, psnr_val = evaluate(generator, dataloader)\n",
    "print(f\"✅ SSIM (T2f): {ssim_val:.4f}\")\n",
    "print(f\"✅ PSNR (T2f): {psnr_val:.4f}\")\n"
   ]
  },
  {
   "cell_type": "code",
   "execution_count": 13,
   "id": "119e6ba0",
   "metadata": {
    "execution": {
     "iopub.execute_input": "2025-03-24T13:34:53.933193Z",
     "iopub.status.busy": "2025-03-24T13:34:53.932882Z",
     "iopub.status.idle": "2025-03-24T13:34:56.366082Z",
     "shell.execute_reply": "2025-03-24T13:34:56.365217Z"
    },
    "papermill": {
     "duration": 3.372714,
     "end_time": "2025-03-24T13:34:56.373194",
     "exception": false,
     "start_time": "2025-03-24T13:34:53.000480",
     "status": "completed"
    },
    "tags": []
   },
   "outputs": [
    {
     "data": {
      "image/png": "[encoded data removed]",
      "text/plain": [
       "<Figure size 1500x800 with 15 Axes>"
      ]
     },
     "metadata": {},
     "output_type": "display_data"
    }
   ],
   "source": [
    "def visualize_samples(generator, dataloader):\n",
    "    generator.eval()\n",
    "    x, y = next(iter(dataloader))\n",
    "    x = x.to(device)\n",
    "    with torch.no_grad():\n",
    "        preds = generator(x).cpu().numpy()\n",
    "    x = x.cpu().numpy()\n",
    "    y = y.cpu().numpy()\n",
    "\n",
    "    plt.figure(figsize=(15, 8))\n",
    "    for i in range(3):\n",
    "        plt.subplot(3, 5, i*5 + 1)\n",
    "        plt.imshow(x[i][0], cmap='gray')\n",
    "        plt.title(\"Input: T1n\")\n",
    "\n",
    "        plt.subplot(3, 5, i*5 + 2)\n",
    "        plt.imshow(x[i][1], cmap='gray')\n",
    "        plt.title(\"Input: T1c\")\n",
    "\n",
    "        plt.subplot(3, 5, i*5 + 3)\n",
    "        plt.imshow(x[i][2], cmap='gray')\n",
    "        plt.title(\"Input: T2w\")\n",
    "\n",
    "        plt.subplot(3, 5, i*5 + 4)\n",
    "        plt.imshow(y[i][0], cmap='gray')\n",
    "        plt.title(\"GT: T2f\")\n",
    "\n",
    "        plt.subplot(3, 5, i*5 + 5)\n",
    "        plt.imshow(preds[i][0], cmap='gray')\n",
    "        plt.title(\"Pred: T2f\")\n",
    "\n",
    "    plt.tight_layout()\n",
    "    plt.show()\n",
    "\n",
    "visualize_samples(generator, dataloader)\n"
   ]
  },
  {
   "cell_type": "code",
   "execution_count": 14,
   "id": "6505486c",
   "metadata": {
    "execution": {
     "iopub.execute_input": "2025-03-24T13:34:58.261763Z",
     "iopub.status.busy": "2025-03-24T13:34:58.261410Z",
     "iopub.status.idle": "2025-03-24T13:34:58.313289Z",
     "shell.execute_reply": "2025-03-24T13:34:58.312423Z"
    },
    "papermill": {
     "duration": 1.001133,
     "end_time": "2025-03-24T13:34:58.314567",
     "exception": false,
     "start_time": "2025-03-24T13:34:57.313434",
     "status": "completed"
    },
    "tags": []
   },
   "outputs": [
    {
     "name": "stdout",
     "output_type": "stream",
     "text": [
      "✅ Both Generator and Discriminator saved!\n"
     ]
    }
   ],
   "source": [
    "torch.save({\n",
    "    'generator': generator.state_dict(),\n",
    "    'discriminator': discriminator.state_dict(),\n",
    "}, \"cgan_models_t2f_seg_150.pth\")\n",
    "\n",
    "print(\"✅ Both Generator and Discriminator saved!\")\n"
   ]
  },
  {
   "cell_type": "code",
   "execution_count": 15,
   "id": "f9d8111f",
   "metadata": {
    "execution": {
     "iopub.execute_input": "2025-03-24T13:35:00.160367Z",
     "iopub.status.busy": "2025-03-24T13:35:00.160045Z",
     "iopub.status.idle": "2025-03-24T13:35:00.164496Z",
     "shell.execute_reply": "2025-03-24T13:35:00.163678Z"
    },
    "papermill": {
     "duration": 0.905495,
     "end_time": "2025-03-24T13:35:00.165774",
     "exception": false,
     "start_time": "2025-03-24T13:34:59.260279",
     "status": "completed"
    },
    "tags": []
   },
   "outputs": [],
   "source": [
    "with open(\"cgan_model_arch_150.txt\", \"w\") as f:\n",
    "    f.write(str(generator))"
   ]
  },
  {
   "cell_type": "markdown",
   "id": "f9a1fde3",
   "metadata": {
    "papermill": {
     "duration": 0.956919,
     "end_time": "2025-03-24T13:35:02.104909",
     "exception": false,
     "start_time": "2025-03-24T13:35:01.147990",
     "status": "completed"
    },
    "tags": []
   },
   "source": [
    "## BEYOND 150 EPOCHS"
   ]
  },
  {
   "cell_type": "code",
   "execution_count": 16,
   "id": "382c2f95",
   "metadata": {
    "execution": {
     "iopub.execute_input": "2025-03-24T13:35:03.956053Z",
     "iopub.status.busy": "2025-03-24T13:35:03.955763Z",
     "iopub.status.idle": "2025-03-24T13:35:04.345838Z",
     "shell.execute_reply": "2025-03-24T13:35:04.344636Z"
    },
    "papermill": {
     "duration": 1.343735,
     "end_time": "2025-03-24T13:35:04.347459",
     "exception": false,
     "start_time": "2025-03-24T13:35:03.003724",
     "status": "completed"
    },
    "tags": []
   },
   "outputs": [
    {
     "name": "stderr",
     "output_type": "stream",
     "text": [
      "<ipython-input-16-e63de65db896>:1: FutureWarning: You are using `torch.load` with `weights_only=False` (the current default value), which uses the default pickle module implicitly. It is possible to construct malicious pickle data which will execute arbitrary code during unpickling (See https://github.com/pytorch/pytorch/blob/main/SECURITY.md#untrusted-models for more details). In a future release, the default value for `weights_only` will be flipped to `True`. This limits the functions that could be executed during unpickling. Arbitrary objects will no longer be allowed to be loaded via this mode unless they are explicitly allowlisted by the user via `torch.serialization.add_safe_globals`. We recommend you start setting `weights_only=True` for any use case where you don't have full control of the loaded file. Please open an issue on GitHub for any issues related to this experimental feature.\n",
      "  checkpoint = torch.load(\"/kaggle/input/brats_unet_cgan_epoch150.pth/other/default/1/cgan_models_t2f_seg_150.pth\", map_location=device)\n"
     ]
    },
    {
     "name": "stdout",
     "output_type": "stream",
     "text": [
      "✅ Generator and Discriminator loaded from epoch 150 checkpoint\n"
     ]
    }
   ],
   "source": [
    "checkpoint = torch.load(\"/kaggle/input/brats_unet_cgan_epoch150.pth/other/default/1/cgan_models_t2f_seg_150.pth\", map_location=device)\n",
    "\n",
    "generator.load_state_dict(checkpoint['generator'])\n",
    "discriminator.load_state_dict(checkpoint['discriminator'])\n",
    "\n",
    "print(\"✅ Generator and Discriminator loaded from epoch 150 checkpoint\")\n"
   ]
  },
  {
   "cell_type": "code",
   "execution_count": 17,
   "id": "2c191c3b",
   "metadata": {
    "execution": {
     "iopub.execute_input": "2025-03-24T13:35:06.205387Z",
     "iopub.status.busy": "2025-03-24T13:35:06.205092Z",
     "iopub.status.idle": "2025-03-24T14:11:30.249061Z",
     "shell.execute_reply": "2025-03-24T14:11:30.248263Z"
    },
    "papermill": {
     "duration": 2184.94734,
     "end_time": "2025-03-24T14:11:30.250362",
     "exception": false,
     "start_time": "2025-03-24T13:35:05.303022",
     "status": "completed"
    },
    "tags": []
   },
   "outputs": [
    {
     "name": "stderr",
     "output_type": "stream",
     "text": [
      "Epoch 151/250: 100%|██████████| 250/250 [00:21<00:00, 11.39it/s]\n"
     ]
    },
    {
     "name": "stdout",
     "output_type": "stream",
     "text": [
      "Epoch 151 | D: 172.6663 | G: 310.4551 | L1: 1.3435\n"
     ]
    },
    {
     "name": "stderr",
     "output_type": "stream",
     "text": [
      "Epoch 152/250: 100%|██████████| 250/250 [00:22<00:00, 11.08it/s]\n"
     ]
    },
    {
     "name": "stdout",
     "output_type": "stream",
     "text": [
      "Epoch 152 | D: 172.4114 | G: 292.4482 | L1: 1.1697\n"
     ]
    },
    {
     "name": "stderr",
     "output_type": "stream",
     "text": [
      "Epoch 153/250: 100%|██████████| 250/250 [00:21<00:00, 11.50it/s]\n"
     ]
    },
    {
     "name": "stdout",
     "output_type": "stream",
     "text": [
      "Epoch 153 | D: 172.4335 | G: 289.5635 | L1: 1.1414\n"
     ]
    },
    {
     "name": "stderr",
     "output_type": "stream",
     "text": [
      "Epoch 154/250: 100%|██████████| 250/250 [00:21<00:00, 11.62it/s]\n"
     ]
    },
    {
     "name": "stdout",
     "output_type": "stream",
     "text": [
      "Epoch 154 | D: 172.3949 | G: 288.5662 | L1: 1.1316\n"
     ]
    },
    {
     "name": "stderr",
     "output_type": "stream",
     "text": [
      "Epoch 155/250: 100%|██████████| 250/250 [00:21<00:00, 11.49it/s]\n"
     ]
    },
    {
     "name": "stdout",
     "output_type": "stream",
     "text": [
      "Epoch 155 | D: 174.9234 | G: 285.6801 | L1: 1.0969\n"
     ]
    },
    {
     "name": "stderr",
     "output_type": "stream",
     "text": [
      "Epoch 156/250: 100%|██████████| 250/250 [00:21<00:00, 11.40it/s]\n"
     ]
    },
    {
     "name": "stdout",
     "output_type": "stream",
     "text": [
      "Epoch 156 | D: 172.4828 | G: 283.8095 | L1: 1.0850\n"
     ]
    },
    {
     "name": "stderr",
     "output_type": "stream",
     "text": [
      "Epoch 157/250: 100%|██████████| 250/250 [00:21<00:00, 11.47it/s]\n"
     ]
    },
    {
     "name": "stdout",
     "output_type": "stream",
     "text": [
      "Epoch 157 | D: 171.8886 | G: 287.4081 | L1: 1.1139\n"
     ]
    },
    {
     "name": "stderr",
     "output_type": "stream",
     "text": [
      "Epoch 158/250: 100%|██████████| 250/250 [00:21<00:00, 11.53it/s]\n"
     ]
    },
    {
     "name": "stdout",
     "output_type": "stream",
     "text": [
      "Epoch 158 | D: 172.3943 | G: 286.7687 | L1: 1.1125\n"
     ]
    },
    {
     "name": "stderr",
     "output_type": "stream",
     "text": [
      "Epoch 159/250: 100%|██████████| 250/250 [00:21<00:00, 11.50it/s]\n"
     ]
    },
    {
     "name": "stdout",
     "output_type": "stream",
     "text": [
      "Epoch 159 | D: 172.3068 | G: 286.2276 | L1: 1.1081\n"
     ]
    },
    {
     "name": "stderr",
     "output_type": "stream",
     "text": [
      "Epoch 160/250: 100%|██████████| 250/250 [00:21<00:00, 11.47it/s]\n"
     ]
    },
    {
     "name": "stdout",
     "output_type": "stream",
     "text": [
      "Epoch 160 | D: 172.4603 | G: 287.8360 | L1: 1.1233\n",
      "✅ Checkpoint saved at epoch 160\n"
     ]
    },
    {
     "name": "stderr",
     "output_type": "stream",
     "text": [
      "Epoch 161/250: 100%|██████████| 250/250 [00:21<00:00, 11.47it/s]\n"
     ]
    },
    {
     "name": "stdout",
     "output_type": "stream",
     "text": [
      "Epoch 161 | D: 172.4329 | G: 287.7436 | L1: 1.1233\n"
     ]
    },
    {
     "name": "stderr",
     "output_type": "stream",
     "text": [
      "Epoch 162/250: 100%|██████████| 250/250 [00:21<00:00, 11.46it/s]\n"
     ]
    },
    {
     "name": "stdout",
     "output_type": "stream",
     "text": [
      "Epoch 162 | D: 172.3994 | G: 286.1633 | L1: 1.1072\n"
     ]
    },
    {
     "name": "stderr",
     "output_type": "stream",
     "text": [
      "Epoch 163/250: 100%|██████████| 250/250 [00:21<00:00, 11.45it/s]\n"
     ]
    },
    {
     "name": "stdout",
     "output_type": "stream",
     "text": [
      "Epoch 163 | D: 173.9739 | G: 284.9849 | L1: 1.0981\n"
     ]
    },
    {
     "name": "stderr",
     "output_type": "stream",
     "text": [
      "Epoch 164/250: 100%|██████████| 250/250 [00:21<00:00, 11.45it/s]\n"
     ]
    },
    {
     "name": "stdout",
     "output_type": "stream",
     "text": [
      "Epoch 164 | D: 172.1231 | G: 284.7101 | L1: 1.0860\n"
     ]
    },
    {
     "name": "stderr",
     "output_type": "stream",
     "text": [
      "Epoch 165/250: 100%|██████████| 250/250 [00:21<00:00, 11.45it/s]\n"
     ]
    },
    {
     "name": "stdout",
     "output_type": "stream",
     "text": [
      "Epoch 165 | D: 172.3009 | G: 287.1095 | L1: 1.1143\n"
     ]
    },
    {
     "name": "stderr",
     "output_type": "stream",
     "text": [
      "Epoch 166/250: 100%|██████████| 250/250 [00:21<00:00, 11.45it/s]\n"
     ]
    },
    {
     "name": "stdout",
     "output_type": "stream",
     "text": [
      "Epoch 166 | D: 174.2108 | G: 286.5246 | L1: 1.1095\n"
     ]
    },
    {
     "name": "stderr",
     "output_type": "stream",
     "text": [
      "Epoch 167/250: 100%|██████████| 250/250 [00:21<00:00, 11.46it/s]\n"
     ]
    },
    {
     "name": "stdout",
     "output_type": "stream",
     "text": [
      "Epoch 167 | D: 172.1944 | G: 283.8003 | L1: 1.0807\n"
     ]
    },
    {
     "name": "stderr",
     "output_type": "stream",
     "text": [
      "Epoch 168/250: 100%|██████████| 250/250 [00:21<00:00, 11.44it/s]\n"
     ]
    },
    {
     "name": "stdout",
     "output_type": "stream",
     "text": [
      "Epoch 168 | D: 171.9175 | G: 287.0276 | L1: 1.1115\n"
     ]
    },
    {
     "name": "stderr",
     "output_type": "stream",
     "text": [
      "Epoch 169/250: 100%|██████████| 250/250 [00:21<00:00, 11.45it/s]\n"
     ]
    },
    {
     "name": "stdout",
     "output_type": "stream",
     "text": [
      "Epoch 169 | D: 172.2451 | G: 284.7820 | L1: 1.0909\n"
     ]
    },
    {
     "name": "stderr",
     "output_type": "stream",
     "text": [
      "Epoch 170/250: 100%|██████████| 250/250 [00:21<00:00, 11.46it/s]\n"
     ]
    },
    {
     "name": "stdout",
     "output_type": "stream",
     "text": [
      "Epoch 170 | D: 172.4517 | G: 286.9585 | L1: 1.1139\n",
      "✅ Checkpoint saved at epoch 170\n"
     ]
    },
    {
     "name": "stderr",
     "output_type": "stream",
     "text": [
      "Epoch 171/250: 100%|██████████| 250/250 [00:21<00:00, 11.45it/s]\n"
     ]
    },
    {
     "name": "stdout",
     "output_type": "stream",
     "text": [
      "Epoch 171 | D: 172.4341 | G: 284.3901 | L1: 1.0883\n"
     ]
    },
    {
     "name": "stderr",
     "output_type": "stream",
     "text": [
      "Epoch 172/250: 100%|██████████| 250/250 [00:21<00:00, 11.45it/s]\n"
     ]
    },
    {
     "name": "stdout",
     "output_type": "stream",
     "text": [
      "Epoch 172 | D: 172.3538 | G: 284.9671 | L1: 1.0938\n"
     ]
    },
    {
     "name": "stderr",
     "output_type": "stream",
     "text": [
      "Epoch 173/250: 100%|██████████| 250/250 [00:21<00:00, 11.46it/s]\n"
     ]
    },
    {
     "name": "stdout",
     "output_type": "stream",
     "text": [
      "Epoch 173 | D: 172.3247 | G: 286.9129 | L1: 1.1126\n"
     ]
    },
    {
     "name": "stderr",
     "output_type": "stream",
     "text": [
      "Epoch 174/250: 100%|██████████| 250/250 [00:21<00:00, 11.48it/s]\n"
     ]
    },
    {
     "name": "stdout",
     "output_type": "stream",
     "text": [
      "Epoch 174 | D: 172.4276 | G: 284.6786 | L1: 1.0903\n"
     ]
    },
    {
     "name": "stderr",
     "output_type": "stream",
     "text": [
      "Epoch 175/250: 100%|██████████| 250/250 [00:21<00:00, 11.48it/s]\n"
     ]
    },
    {
     "name": "stdout",
     "output_type": "stream",
     "text": [
      "Epoch 175 | D: 173.4258 | G: 284.0308 | L1: 1.0825\n"
     ]
    },
    {
     "name": "stderr",
     "output_type": "stream",
     "text": [
      "Epoch 176/250: 100%|██████████| 250/250 [00:21<00:00, 11.49it/s]\n"
     ]
    },
    {
     "name": "stdout",
     "output_type": "stream",
     "text": [
      "Epoch 176 | D: 172.7257 | G: 284.5389 | L1: 1.0846\n"
     ]
    },
    {
     "name": "stderr",
     "output_type": "stream",
     "text": [
      "Epoch 177/250: 100%|██████████| 250/250 [00:21<00:00, 11.48it/s]\n"
     ]
    },
    {
     "name": "stdout",
     "output_type": "stream",
     "text": [
      "Epoch 177 | D: 172.8512 | G: 284.9184 | L1: 1.0954\n"
     ]
    },
    {
     "name": "stderr",
     "output_type": "stream",
     "text": [
      "Epoch 178/250: 100%|██████████| 250/250 [00:21<00:00, 11.49it/s]\n"
     ]
    },
    {
     "name": "stdout",
     "output_type": "stream",
     "text": [
      "Epoch 178 | D: 172.1547 | G: 284.5310 | L1: 1.0881\n"
     ]
    },
    {
     "name": "stderr",
     "output_type": "stream",
     "text": [
      "Epoch 179/250: 100%|██████████| 250/250 [00:21<00:00, 11.48it/s]\n"
     ]
    },
    {
     "name": "stdout",
     "output_type": "stream",
     "text": [
      "Epoch 179 | D: 172.2253 | G: 285.9902 | L1: 1.1023\n"
     ]
    },
    {
     "name": "stderr",
     "output_type": "stream",
     "text": [
      "Epoch 180/250: 100%|██████████| 250/250 [00:21<00:00, 11.50it/s]\n"
     ]
    },
    {
     "name": "stdout",
     "output_type": "stream",
     "text": [
      "Epoch 180 | D: 172.3103 | G: 285.3139 | L1: 1.0950\n",
      "✅ Checkpoint saved at epoch 180\n"
     ]
    },
    {
     "name": "stderr",
     "output_type": "stream",
     "text": [
      "Epoch 181/250: 100%|██████████| 250/250 [00:21<00:00, 11.51it/s]\n"
     ]
    },
    {
     "name": "stdout",
     "output_type": "stream",
     "text": [
      "Epoch 181 | D: 172.1245 | G: 284.7054 | L1: 1.0886\n"
     ]
    },
    {
     "name": "stderr",
     "output_type": "stream",
     "text": [
      "Epoch 182/250: 100%|██████████| 250/250 [00:21<00:00, 11.48it/s]\n"
     ]
    },
    {
     "name": "stdout",
     "output_type": "stream",
     "text": [
      "Epoch 182 | D: 172.1718 | G: 284.9399 | L1: 1.0892\n"
     ]
    },
    {
     "name": "stderr",
     "output_type": "stream",
     "text": [
      "Epoch 183/250: 100%|██████████| 250/250 [00:21<00:00, 11.48it/s]\n"
     ]
    },
    {
     "name": "stdout",
     "output_type": "stream",
     "text": [
      "Epoch 183 | D: 172.2536 | G: 285.4836 | L1: 1.0938\n"
     ]
    },
    {
     "name": "stderr",
     "output_type": "stream",
     "text": [
      "Epoch 184/250: 100%|██████████| 250/250 [00:21<00:00, 11.47it/s]\n"
     ]
    },
    {
     "name": "stdout",
     "output_type": "stream",
     "text": [
      "Epoch 184 | D: 172.8328 | G: 284.8806 | L1: 1.0850\n"
     ]
    },
    {
     "name": "stderr",
     "output_type": "stream",
     "text": [
      "Epoch 185/250: 100%|██████████| 250/250 [00:21<00:00, 11.47it/s]\n"
     ]
    },
    {
     "name": "stdout",
     "output_type": "stream",
     "text": [
      "Epoch 185 | D: 171.9600 | G: 284.0749 | L1: 1.0795\n"
     ]
    },
    {
     "name": "stderr",
     "output_type": "stream",
     "text": [
      "Epoch 186/250: 100%|██████████| 250/250 [00:21<00:00, 11.47it/s]\n"
     ]
    },
    {
     "name": "stdout",
     "output_type": "stream",
     "text": [
      "Epoch 186 | D: 172.4662 | G: 285.4331 | L1: 1.0910\n"
     ]
    },
    {
     "name": "stderr",
     "output_type": "stream",
     "text": [
      "Epoch 187/250: 100%|██████████| 250/250 [00:21<00:00, 11.44it/s]\n"
     ]
    },
    {
     "name": "stdout",
     "output_type": "stream",
     "text": [
      "Epoch 187 | D: 172.3532 | G: 283.2212 | L1: 1.0694\n"
     ]
    },
    {
     "name": "stderr",
     "output_type": "stream",
     "text": [
      "Epoch 188/250: 100%|██████████| 250/250 [00:21<00:00, 11.46it/s]\n"
     ]
    },
    {
     "name": "stdout",
     "output_type": "stream",
     "text": [
      "Epoch 188 | D: 174.3239 | G: 282.1992 | L1: 1.0545\n"
     ]
    },
    {
     "name": "stderr",
     "output_type": "stream",
     "text": [
      "Epoch 189/250: 100%|██████████| 250/250 [00:21<00:00, 11.46it/s]\n"
     ]
    },
    {
     "name": "stdout",
     "output_type": "stream",
     "text": [
      "Epoch 189 | D: 173.1429 | G: 275.6247 | L1: 1.0169\n"
     ]
    },
    {
     "name": "stderr",
     "output_type": "stream",
     "text": [
      "Epoch 190/250: 100%|██████████| 250/250 [00:21<00:00, 11.47it/s]\n"
     ]
    },
    {
     "name": "stdout",
     "output_type": "stream",
     "text": [
      "Epoch 190 | D: 172.6136 | G: 276.6417 | L1: 1.0175\n",
      "✅ Checkpoint saved at epoch 190\n"
     ]
    },
    {
     "name": "stderr",
     "output_type": "stream",
     "text": [
      "Epoch 191/250: 100%|██████████| 250/250 [00:21<00:00, 11.45it/s]\n"
     ]
    },
    {
     "name": "stdout",
     "output_type": "stream",
     "text": [
      "Epoch 191 | D: 171.6665 | G: 282.3134 | L1: 1.0518\n"
     ]
    },
    {
     "name": "stderr",
     "output_type": "stream",
     "text": [
      "Epoch 192/250: 100%|██████████| 250/250 [00:21<00:00, 11.47it/s]\n"
     ]
    },
    {
     "name": "stdout",
     "output_type": "stream",
     "text": [
      "Epoch 192 | D: 171.2264 | G: 284.6585 | L1: 1.0707\n"
     ]
    },
    {
     "name": "stderr",
     "output_type": "stream",
     "text": [
      "Epoch 193/250: 100%|██████████| 250/250 [00:21<00:00, 11.46it/s]\n"
     ]
    },
    {
     "name": "stdout",
     "output_type": "stream",
     "text": [
      "Epoch 193 | D: 171.2191 | G: 284.3980 | L1: 1.0713\n"
     ]
    },
    {
     "name": "stderr",
     "output_type": "stream",
     "text": [
      "Epoch 194/250: 100%|██████████| 250/250 [00:21<00:00, 11.48it/s]\n"
     ]
    },
    {
     "name": "stdout",
     "output_type": "stream",
     "text": [
      "Epoch 194 | D: 171.3383 | G: 286.1481 | L1: 1.0909\n"
     ]
    },
    {
     "name": "stderr",
     "output_type": "stream",
     "text": [
      "Epoch 195/250: 100%|██████████| 250/250 [00:21<00:00, 11.49it/s]\n"
     ]
    },
    {
     "name": "stdout",
     "output_type": "stream",
     "text": [
      "Epoch 195 | D: 173.9044 | G: 280.6328 | L1: 1.0423\n"
     ]
    },
    {
     "name": "stderr",
     "output_type": "stream",
     "text": [
      "Epoch 196/250: 100%|██████████| 250/250 [00:21<00:00, 11.48it/s]\n"
     ]
    },
    {
     "name": "stdout",
     "output_type": "stream",
     "text": [
      "Epoch 196 | D: 172.6668 | G: 276.4838 | L1: 1.0189\n"
     ]
    },
    {
     "name": "stderr",
     "output_type": "stream",
     "text": [
      "Epoch 197/250: 100%|██████████| 250/250 [00:21<00:00, 11.47it/s]\n"
     ]
    },
    {
     "name": "stdout",
     "output_type": "stream",
     "text": [
      "Epoch 197 | D: 171.3888 | G: 282.6161 | L1: 1.0534\n"
     ]
    },
    {
     "name": "stderr",
     "output_type": "stream",
     "text": [
      "Epoch 198/250: 100%|██████████| 250/250 [00:21<00:00, 11.45it/s]\n"
     ]
    },
    {
     "name": "stdout",
     "output_type": "stream",
     "text": [
      "Epoch 198 | D: 171.0514 | G: 285.8479 | L1: 1.0804\n"
     ]
    },
    {
     "name": "stderr",
     "output_type": "stream",
     "text": [
      "Epoch 199/250: 100%|██████████| 250/250 [00:21<00:00, 11.45it/s]\n"
     ]
    },
    {
     "name": "stdout",
     "output_type": "stream",
     "text": [
      "Epoch 199 | D: 171.5936 | G: 284.9982 | L1: 1.0776\n"
     ]
    },
    {
     "name": "stderr",
     "output_type": "stream",
     "text": [
      "Epoch 200/250: 100%|██████████| 250/250 [00:21<00:00, 11.44it/s]\n"
     ]
    },
    {
     "name": "stdout",
     "output_type": "stream",
     "text": [
      "Epoch 200 | D: 171.3813 | G: 283.0258 | L1: 1.0592\n",
      "✅ Checkpoint saved at epoch 200\n"
     ]
    },
    {
     "name": "stderr",
     "output_type": "stream",
     "text": [
      "Epoch 201/250: 100%|██████████| 250/250 [00:21<00:00, 11.44it/s]\n"
     ]
    },
    {
     "name": "stdout",
     "output_type": "stream",
     "text": [
      "Epoch 201 | D: 171.7458 | G: 284.1857 | L1: 1.0698\n"
     ]
    },
    {
     "name": "stderr",
     "output_type": "stream",
     "text": [
      "Epoch 202/250: 100%|██████████| 250/250 [00:21<00:00, 11.42it/s]\n"
     ]
    },
    {
     "name": "stdout",
     "output_type": "stream",
     "text": [
      "Epoch 202 | D: 171.7877 | G: 284.0565 | L1: 1.0726\n"
     ]
    },
    {
     "name": "stderr",
     "output_type": "stream",
     "text": [
      "Epoch 203/250: 100%|██████████| 250/250 [00:21<00:00, 11.45it/s]\n"
     ]
    },
    {
     "name": "stdout",
     "output_type": "stream",
     "text": [
      "Epoch 203 | D: 171.7098 | G: 284.5121 | L1: 1.0755\n"
     ]
    },
    {
     "name": "stderr",
     "output_type": "stream",
     "text": [
      "Epoch 204/250: 100%|██████████| 250/250 [00:21<00:00, 11.47it/s]\n"
     ]
    },
    {
     "name": "stdout",
     "output_type": "stream",
     "text": [
      "Epoch 204 | D: 171.6377 | G: 284.1025 | L1: 1.0710\n"
     ]
    },
    {
     "name": "stderr",
     "output_type": "stream",
     "text": [
      "Epoch 205/250: 100%|██████████| 250/250 [00:21<00:00, 11.46it/s]\n"
     ]
    },
    {
     "name": "stdout",
     "output_type": "stream",
     "text": [
      "Epoch 205 | D: 172.4192 | G: 283.4068 | L1: 1.0617\n"
     ]
    },
    {
     "name": "stderr",
     "output_type": "stream",
     "text": [
      "Epoch 206/250: 100%|██████████| 250/250 [00:21<00:00, 11.46it/s]\n"
     ]
    },
    {
     "name": "stdout",
     "output_type": "stream",
     "text": [
      "Epoch 206 | D: 171.4965 | G: 284.0758 | L1: 1.0719\n"
     ]
    },
    {
     "name": "stderr",
     "output_type": "stream",
     "text": [
      "Epoch 207/250: 100%|██████████| 250/250 [00:21<00:00, 11.47it/s]\n"
     ]
    },
    {
     "name": "stdout",
     "output_type": "stream",
     "text": [
      "Epoch 207 | D: 171.5858 | G: 283.4122 | L1: 1.0637\n"
     ]
    },
    {
     "name": "stderr",
     "output_type": "stream",
     "text": [
      "Epoch 208/250: 100%|██████████| 250/250 [00:21<00:00, 11.47it/s]\n"
     ]
    },
    {
     "name": "stdout",
     "output_type": "stream",
     "text": [
      "Epoch 208 | D: 174.7146 | G: 279.8007 | L1: 1.0385\n"
     ]
    },
    {
     "name": "stderr",
     "output_type": "stream",
     "text": [
      "Epoch 209/250: 100%|██████████| 250/250 [00:21<00:00, 11.47it/s]\n"
     ]
    },
    {
     "name": "stdout",
     "output_type": "stream",
     "text": [
      "Epoch 209 | D: 173.1346 | G: 273.0297 | L1: 0.9912\n"
     ]
    },
    {
     "name": "stderr",
     "output_type": "stream",
     "text": [
      "Epoch 210/250: 100%|██████████| 250/250 [00:21<00:00, 11.48it/s]\n"
     ]
    },
    {
     "name": "stdout",
     "output_type": "stream",
     "text": [
      "Epoch 210 | D: 172.7666 | G: 275.2887 | L1: 1.0041\n",
      "✅ Checkpoint saved at epoch 210\n"
     ]
    },
    {
     "name": "stderr",
     "output_type": "stream",
     "text": [
      "Epoch 211/250: 100%|██████████| 250/250 [00:21<00:00, 11.47it/s]\n"
     ]
    },
    {
     "name": "stdout",
     "output_type": "stream",
     "text": [
      "Epoch 211 | D: 172.1633 | G: 278.0882 | L1: 1.0170\n"
     ]
    },
    {
     "name": "stderr",
     "output_type": "stream",
     "text": [
      "Epoch 212/250: 100%|██████████| 250/250 [00:21<00:00, 11.46it/s]\n"
     ]
    },
    {
     "name": "stdout",
     "output_type": "stream",
     "text": [
      "Epoch 212 | D: 171.4141 | G: 283.5724 | L1: 1.0469\n"
     ]
    },
    {
     "name": "stderr",
     "output_type": "stream",
     "text": [
      "Epoch 213/250: 100%|██████████| 250/250 [00:21<00:00, 11.46it/s]\n"
     ]
    },
    {
     "name": "stdout",
     "output_type": "stream",
     "text": [
      "Epoch 213 | D: 172.0150 | G: 285.0578 | L1: 1.0598\n"
     ]
    },
    {
     "name": "stderr",
     "output_type": "stream",
     "text": [
      "Epoch 214/250: 100%|██████████| 250/250 [00:21<00:00, 11.47it/s]\n"
     ]
    },
    {
     "name": "stdout",
     "output_type": "stream",
     "text": [
      "Epoch 214 | D: 172.3466 | G: 276.6501 | L1: 1.0098\n"
     ]
    },
    {
     "name": "stderr",
     "output_type": "stream",
     "text": [
      "Epoch 215/250: 100%|██████████| 250/250 [00:21<00:00, 11.46it/s]\n"
     ]
    },
    {
     "name": "stdout",
     "output_type": "stream",
     "text": [
      "Epoch 215 | D: 170.6366 | G: 284.1206 | L1: 1.0560\n"
     ]
    },
    {
     "name": "stderr",
     "output_type": "stream",
     "text": [
      "Epoch 216/250: 100%|██████████| 250/250 [00:21<00:00, 11.47it/s]\n"
     ]
    },
    {
     "name": "stdout",
     "output_type": "stream",
     "text": [
      "Epoch 216 | D: 171.0120 | G: 285.3445 | L1: 1.0715\n"
     ]
    },
    {
     "name": "stderr",
     "output_type": "stream",
     "text": [
      "Epoch 217/250: 100%|██████████| 250/250 [00:21<00:00, 11.47it/s]\n"
     ]
    },
    {
     "name": "stdout",
     "output_type": "stream",
     "text": [
      "Epoch 217 | D: 171.1961 | G: 284.3302 | L1: 1.0669\n"
     ]
    },
    {
     "name": "stderr",
     "output_type": "stream",
     "text": [
      "Epoch 218/250: 100%|██████████| 250/250 [00:21<00:00, 11.45it/s]\n"
     ]
    },
    {
     "name": "stdout",
     "output_type": "stream",
     "text": [
      "Epoch 218 | D: 171.2912 | G: 282.5015 | L1: 1.0498\n"
     ]
    },
    {
     "name": "stderr",
     "output_type": "stream",
     "text": [
      "Epoch 219/250: 100%|██████████| 250/250 [00:21<00:00, 11.44it/s]\n"
     ]
    },
    {
     "name": "stdout",
     "output_type": "stream",
     "text": [
      "Epoch 219 | D: 171.5078 | G: 281.9979 | L1: 1.0478\n"
     ]
    },
    {
     "name": "stderr",
     "output_type": "stream",
     "text": [
      "Epoch 220/250: 100%|██████████| 250/250 [00:21<00:00, 11.44it/s]\n"
     ]
    },
    {
     "name": "stdout",
     "output_type": "stream",
     "text": [
      "Epoch 220 | D: 175.3948 | G: 280.9051 | L1: 1.0366\n",
      "✅ Checkpoint saved at epoch 220\n"
     ]
    },
    {
     "name": "stderr",
     "output_type": "stream",
     "text": [
      "Epoch 221/250: 100%|██████████| 250/250 [00:21<00:00, 11.42it/s]\n"
     ]
    },
    {
     "name": "stdout",
     "output_type": "stream",
     "text": [
      "Epoch 221 | D: 173.1559 | G: 274.5372 | L1: 1.0061\n"
     ]
    },
    {
     "name": "stderr",
     "output_type": "stream",
     "text": [
      "Epoch 222/250: 100%|██████████| 250/250 [00:21<00:00, 11.41it/s]\n"
     ]
    },
    {
     "name": "stdout",
     "output_type": "stream",
     "text": [
      "Epoch 222 | D: 172.7798 | G: 273.0452 | L1: 0.9856\n"
     ]
    },
    {
     "name": "stderr",
     "output_type": "stream",
     "text": [
      "Epoch 223/250: 100%|██████████| 250/250 [00:21<00:00, 11.42it/s]\n"
     ]
    },
    {
     "name": "stdout",
     "output_type": "stream",
     "text": [
      "Epoch 223 | D: 172.2069 | G: 277.6300 | L1: 1.0131\n"
     ]
    },
    {
     "name": "stderr",
     "output_type": "stream",
     "text": [
      "Epoch 224/250: 100%|██████████| 250/250 [00:21<00:00, 11.40it/s]\n"
     ]
    },
    {
     "name": "stdout",
     "output_type": "stream",
     "text": [
      "Epoch 224 | D: 171.1264 | G: 281.7157 | L1: 1.0256\n"
     ]
    },
    {
     "name": "stderr",
     "output_type": "stream",
     "text": [
      "Epoch 225/250: 100%|██████████| 250/250 [00:21<00:00, 11.41it/s]\n"
     ]
    },
    {
     "name": "stdout",
     "output_type": "stream",
     "text": [
      "Epoch 225 | D: 170.1850 | G: 283.5719 | L1: 1.0480\n"
     ]
    },
    {
     "name": "stderr",
     "output_type": "stream",
     "text": [
      "Epoch 226/250: 100%|██████████| 250/250 [00:21<00:00, 11.42it/s]\n"
     ]
    },
    {
     "name": "stdout",
     "output_type": "stream",
     "text": [
      "Epoch 226 | D: 170.6993 | G: 285.3526 | L1: 1.0689\n"
     ]
    },
    {
     "name": "stderr",
     "output_type": "stream",
     "text": [
      "Epoch 227/250: 100%|██████████| 250/250 [00:21<00:00, 11.41it/s]\n"
     ]
    },
    {
     "name": "stdout",
     "output_type": "stream",
     "text": [
      "Epoch 227 | D: 171.0036 | G: 283.8697 | L1: 1.0562\n"
     ]
    },
    {
     "name": "stderr",
     "output_type": "stream",
     "text": [
      "Epoch 228/250: 100%|██████████| 250/250 [00:21<00:00, 11.41it/s]\n"
     ]
    },
    {
     "name": "stdout",
     "output_type": "stream",
     "text": [
      "Epoch 228 | D: 171.5197 | G: 282.9465 | L1: 1.0493\n"
     ]
    },
    {
     "name": "stderr",
     "output_type": "stream",
     "text": [
      "Epoch 229/250: 100%|██████████| 250/250 [00:21<00:00, 11.43it/s]\n"
     ]
    },
    {
     "name": "stdout",
     "output_type": "stream",
     "text": [
      "Epoch 229 | D: 171.3727 | G: 283.7074 | L1: 1.0598\n"
     ]
    },
    {
     "name": "stderr",
     "output_type": "stream",
     "text": [
      "Epoch 230/250: 100%|██████████| 250/250 [00:21<00:00, 11.43it/s]\n"
     ]
    },
    {
     "name": "stdout",
     "output_type": "stream",
     "text": [
      "Epoch 230 | D: 171.3833 | G: 281.7882 | L1: 1.0430\n",
      "✅ Checkpoint saved at epoch 230\n"
     ]
    },
    {
     "name": "stderr",
     "output_type": "stream",
     "text": [
      "Epoch 231/250: 100%|██████████| 250/250 [00:21<00:00, 11.44it/s]\n"
     ]
    },
    {
     "name": "stdout",
     "output_type": "stream",
     "text": [
      "Epoch 231 | D: 171.9063 | G: 281.9205 | L1: 1.0438\n"
     ]
    },
    {
     "name": "stderr",
     "output_type": "stream",
     "text": [
      "Epoch 232/250: 100%|██████████| 250/250 [00:21<00:00, 11.44it/s]\n"
     ]
    },
    {
     "name": "stdout",
     "output_type": "stream",
     "text": [
      "Epoch 232 | D: 171.3930 | G: 281.6656 | L1: 1.0431\n"
     ]
    },
    {
     "name": "stderr",
     "output_type": "stream",
     "text": [
      "Epoch 233/250: 100%|██████████| 250/250 [00:21<00:00, 11.47it/s]\n"
     ]
    },
    {
     "name": "stdout",
     "output_type": "stream",
     "text": [
      "Epoch 233 | D: 172.7624 | G: 280.1407 | L1: 1.0313\n"
     ]
    },
    {
     "name": "stderr",
     "output_type": "stream",
     "text": [
      "Epoch 234/250: 100%|██████████| 250/250 [00:21<00:00, 11.44it/s]\n"
     ]
    },
    {
     "name": "stdout",
     "output_type": "stream",
     "text": [
      "Epoch 234 | D: 171.5436 | G: 282.6464 | L1: 1.0489\n"
     ]
    },
    {
     "name": "stderr",
     "output_type": "stream",
     "text": [
      "Epoch 235/250: 100%|██████████| 250/250 [00:21<00:00, 11.45it/s]\n"
     ]
    },
    {
     "name": "stdout",
     "output_type": "stream",
     "text": [
      "Epoch 235 | D: 171.5122 | G: 281.8119 | L1: 1.0418\n"
     ]
    },
    {
     "name": "stderr",
     "output_type": "stream",
     "text": [
      "Epoch 236/250: 100%|██████████| 250/250 [00:21<00:00, 11.48it/s]\n"
     ]
    },
    {
     "name": "stdout",
     "output_type": "stream",
     "text": [
      "Epoch 236 | D: 172.7457 | G: 282.7058 | L1: 1.0468\n"
     ]
    },
    {
     "name": "stderr",
     "output_type": "stream",
     "text": [
      "Epoch 237/250: 100%|██████████| 250/250 [00:21<00:00, 11.46it/s]\n"
     ]
    },
    {
     "name": "stdout",
     "output_type": "stream",
     "text": [
      "Epoch 237 | D: 172.9300 | G: 274.3983 | L1: 0.9960\n"
     ]
    },
    {
     "name": "stderr",
     "output_type": "stream",
     "text": [
      "Epoch 238/250: 100%|██████████| 250/250 [00:21<00:00, 11.47it/s]\n"
     ]
    },
    {
     "name": "stdout",
     "output_type": "stream",
     "text": [
      "Epoch 238 | D: 171.1941 | G: 280.6045 | L1: 1.0287\n"
     ]
    },
    {
     "name": "stderr",
     "output_type": "stream",
     "text": [
      "Epoch 239/250: 100%|██████████| 250/250 [00:21<00:00, 11.45it/s]\n"
     ]
    },
    {
     "name": "stdout",
     "output_type": "stream",
     "text": [
      "Epoch 239 | D: 171.2273 | G: 282.4483 | L1: 1.0402\n"
     ]
    },
    {
     "name": "stderr",
     "output_type": "stream",
     "text": [
      "Epoch 240/250: 100%|██████████| 250/250 [00:21<00:00, 11.44it/s]\n"
     ]
    },
    {
     "name": "stdout",
     "output_type": "stream",
     "text": [
      "Epoch 240 | D: 172.2564 | G: 284.3151 | L1: 1.0463\n",
      "✅ Checkpoint saved at epoch 240\n"
     ]
    },
    {
     "name": "stderr",
     "output_type": "stream",
     "text": [
      "Epoch 241/250: 100%|██████████| 250/250 [00:21<00:00, 11.42it/s]\n"
     ]
    },
    {
     "name": "stdout",
     "output_type": "stream",
     "text": [
      "Epoch 241 | D: 173.4797 | G: 272.6833 | L1: 0.9896\n"
     ]
    },
    {
     "name": "stderr",
     "output_type": "stream",
     "text": [
      "Epoch 242/250: 100%|██████████| 250/250 [00:21<00:00, 11.42it/s]\n"
     ]
    },
    {
     "name": "stdout",
     "output_type": "stream",
     "text": [
      "Epoch 242 | D: 172.6000 | G: 274.7876 | L1: 0.9982\n"
     ]
    },
    {
     "name": "stderr",
     "output_type": "stream",
     "text": [
      "Epoch 243/250: 100%|██████████| 250/250 [00:21<00:00, 11.41it/s]\n"
     ]
    },
    {
     "name": "stdout",
     "output_type": "stream",
     "text": [
      "Epoch 243 | D: 171.7587 | G: 280.9775 | L1: 1.0202\n"
     ]
    },
    {
     "name": "stderr",
     "output_type": "stream",
     "text": [
      "Epoch 244/250: 100%|██████████| 250/250 [00:21<00:00, 11.41it/s]\n"
     ]
    },
    {
     "name": "stdout",
     "output_type": "stream",
     "text": [
      "Epoch 244 | D: 170.2703 | G: 282.0343 | L1: 1.0303\n"
     ]
    },
    {
     "name": "stderr",
     "output_type": "stream",
     "text": [
      "Epoch 245/250: 100%|██████████| 250/250 [00:21<00:00, 11.40it/s]\n"
     ]
    },
    {
     "name": "stdout",
     "output_type": "stream",
     "text": [
      "Epoch 245 | D: 170.2028 | G: 281.5099 | L1: 1.0263\n"
     ]
    },
    {
     "name": "stderr",
     "output_type": "stream",
     "text": [
      "Epoch 246/250: 100%|██████████| 250/250 [00:21<00:00, 11.41it/s]\n"
     ]
    },
    {
     "name": "stdout",
     "output_type": "stream",
     "text": [
      "Epoch 246 | D: 172.9277 | G: 283.1994 | L1: 1.0366\n"
     ]
    },
    {
     "name": "stderr",
     "output_type": "stream",
     "text": [
      "Epoch 247/250: 100%|██████████| 250/250 [00:21<00:00, 11.39it/s]\n"
     ]
    },
    {
     "name": "stdout",
     "output_type": "stream",
     "text": [
      "Epoch 247 | D: 173.1685 | G: 272.1893 | L1: 0.9783\n"
     ]
    },
    {
     "name": "stderr",
     "output_type": "stream",
     "text": [
      "Epoch 248/250: 100%|██████████| 250/250 [00:21<00:00, 11.40it/s]\n"
     ]
    },
    {
     "name": "stdout",
     "output_type": "stream",
     "text": [
      "Epoch 248 | D: 172.6144 | G: 275.6284 | L1: 0.9995\n"
     ]
    },
    {
     "name": "stderr",
     "output_type": "stream",
     "text": [
      "Epoch 249/250: 100%|██████████| 250/250 [00:21<00:00, 11.41it/s]\n"
     ]
    },
    {
     "name": "stdout",
     "output_type": "stream",
     "text": [
      "Epoch 249 | D: 170.4988 | G: 282.4759 | L1: 1.0342\n"
     ]
    },
    {
     "name": "stderr",
     "output_type": "stream",
     "text": [
      "Epoch 250/250: 100%|██████████| 250/250 [00:21<00:00, 11.39it/s]\n"
     ]
    },
    {
     "name": "stdout",
     "output_type": "stream",
     "text": [
      "Epoch 250 | D: 171.1194 | G: 282.1810 | L1: 1.0322\n",
      "✅ Checkpoint saved at epoch 250\n"
     ]
    }
   ],
   "source": [
    "import torch\n",
    "from tqdm import tqdm\n",
    "\n",
    "# Ensure these lists are initialized before the training loop\n",
    "losses_d = []\n",
    "losses_g = []\n",
    "l1s = []\n",
    "\n",
    "start_epoch = 151\n",
    "end_epoch = 250  # Adjust as needed\n",
    "\n",
    "for epoch in range(start_epoch, end_epoch + 1):\n",
    "    g_epoch_loss, d_epoch_loss, l1_epoch = 0, 0, 0\n",
    "    for x, y in tqdm(dataloader, desc=f\"Epoch {epoch}/{end_epoch}\"):\n",
    "        d_loss, g_loss, l1_loss_val = train_step(x, y)\n",
    "        d_epoch_loss += d_loss\n",
    "        g_epoch_loss += g_loss\n",
    "        l1_epoch += l1_loss_val\n",
    "\n",
    "    print(f\"Epoch {epoch} | D: {d_epoch_loss:.4f} | G: {g_epoch_loss:.4f} | L1: {l1_epoch:.4f}\")\n",
    "    losses_d.append(d_epoch_loss)\n",
    "    losses_g.append(g_epoch_loss)\n",
    "    l1s.append(l1_epoch)\n",
    "\n",
    "    # Save every 10 epochs\n",
    "    if epoch % 10 == 0:\n",
    "        torch.save({\n",
    "            'generator': generator.state_dict(),\n",
    "            'discriminator': discriminator.state_dict(),\n",
    "        }, f\"brats_unet_cgan_epoch{epoch}.pth\")\n",
    "        print(f\"✅ Checkpoint saved at epoch {epoch}\")\n"
   ]
  },
  {
   "cell_type": "code",
   "execution_count": 18,
   "id": "f617aa49",
   "metadata": {
    "execution": {
     "iopub.execute_input": "2025-03-24T14:11:33.609369Z",
     "iopub.status.busy": "2025-03-24T14:11:33.608986Z",
     "iopub.status.idle": "2025-03-24T14:11:44.455204Z",
     "shell.execute_reply": "2025-03-24T14:11:44.454116Z"
    },
    "papermill": {
     "duration": 12.494385,
     "end_time": "2025-03-24T14:11:44.457376",
     "exception": false,
     "start_time": "2025-03-24T14:11:31.962991",
     "status": "completed"
    },
    "tags": []
   },
   "outputs": [
    {
     "name": "stdout",
     "output_type": "stream",
     "text": [
      "✅ SSIM (T2f): 0.9692\n",
      "✅ PSNR (T2f): 37.5808\n"
     ]
    }
   ],
   "source": [
    "from skimage.metrics import structural_similarity, peak_signal_noise_ratio\n",
    "\n",
    "def evaluate(generator, dataloader):\n",
    "    generator.eval()\n",
    "    ssim_total, psnr_total = [], []\n",
    "    with torch.no_grad():\n",
    "        for x, y in dataloader:\n",
    "            x = x.to(device)\n",
    "            preds = generator(x).cpu().numpy()\n",
    "            targets = y.numpy()\n",
    "\n",
    "            preds = np.clip(preds, 0, 1)\n",
    "            targets = np.clip(targets, 0, 1)\n",
    "\n",
    "            for i in range(preds.shape[0]):\n",
    "                psnr_total.append(peak_signal_noise_ratio(targets[i][0], preds[i][0], data_range=1.0))\n",
    "                ssim_total.append(structural_similarity(targets[i][0], preds[i][0], data_range=1.0))\n",
    "\n",
    "    return np.mean(ssim_total), np.mean(psnr_total)\n",
    "\n",
    "# Run this after training\n",
    "ssim_val, psnr_val = evaluate(generator, dataloader)\n",
    "print(f\"✅ SSIM (T2f): {ssim_val:.4f}\")\n",
    "print(f\"✅ PSNR (T2f): {psnr_val:.4f}\")\n"
   ]
  },
  {
   "cell_type": "code",
   "execution_count": 19,
   "id": "29f33a27",
   "metadata": {
    "execution": {
     "iopub.execute_input": "2025-03-24T14:11:47.655445Z",
     "iopub.status.busy": "2025-03-24T14:11:47.655122Z",
     "iopub.status.idle": "2025-03-24T14:11:47.698018Z",
     "shell.execute_reply": "2025-03-24T14:11:47.697012Z"
    },
    "papermill": {
     "duration": 1.604279,
     "end_time": "2025-03-24T14:11:47.699379",
     "exception": false,
     "start_time": "2025-03-24T14:11:46.095100",
     "status": "completed"
    },
    "tags": []
   },
   "outputs": [
    {
     "name": "stdout",
     "output_type": "stream",
     "text": [
      "✅ Both Generator and Discriminator saved!\n"
     ]
    }
   ],
   "source": [
    "torch.save({\n",
    "    'generator': generator.state_dict(),\n",
    "    'discriminator': discriminator.state_dict(),\n",
    "}, \"cgan_models_t2f_seg_250.pth\")\n",
    "\n",
    "print(\"✅ Both Generator and Discriminator saved!\")\n"
   ]
  },
  {
   "cell_type": "code",
   "execution_count": 20,
   "id": "f37702db",
   "metadata": {
    "execution": {
     "iopub.execute_input": "2025-03-24T14:11:51.056285Z",
     "iopub.status.busy": "2025-03-24T14:11:51.055950Z",
     "iopub.status.idle": "2025-03-24T14:11:51.133923Z",
     "shell.execute_reply": "2025-03-24T14:11:51.132970Z"
    },
    "papermill": {
     "duration": 1.744659,
     "end_time": "2025-03-24T14:11:51.135432",
     "exception": false,
     "start_time": "2025-03-24T14:11:49.390773",
     "status": "completed"
    },
    "tags": []
   },
   "outputs": [
    {
     "name": "stdout",
     "output_type": "stream",
     "text": [
      "✅ Generator and Discriminator saved at epoch 250!\n"
     ]
    },
    {
     "data": {
      "text/html": [
       "<a href='brats_unet_cgan_epoch250.pth' target='_blank'>brats_unet_cgan_epoch250.pth</a><br>"
      ],
      "text/plain": [
       "/kaggle/working/brats_unet_cgan_epoch250.pth"
      ]
     },
     "metadata": {},
     "output_type": "display_data"
    },
    {
     "name": "stdout",
     "output_type": "stream",
     "text": [
      "🔗 Click the link above to download: brats_unet_cgan_epoch250.pth\n"
     ]
    }
   ],
   "source": [
    "import os\n",
    "import torch\n",
    "from IPython.display import FileLink\n",
    "\n",
    "# File name with epoch included for traceability\n",
    "final_epoch = end_epoch  # Set this to match your end_epoch\n",
    "model_name = f\"brats_unet_cgan_epoch{final_epoch}.pth\"\n",
    "\n",
    "# Save generator + discriminator\n",
    "torch.save({\n",
    "    'generator': generator.state_dict(),\n",
    "    'discriminator': discriminator.state_dict(),\n",
    "}, model_name)\n",
    "\n",
    "print(f\"✅ Generator and Discriminator saved at epoch {final_epoch}!\")\n",
    "\n",
    "# Create a download link\n",
    "if os.path.exists(model_name):\n",
    "    display(FileLink(model_name))\n",
    "    print(f\"🔗 Click the link above to download: {model_name}\")\n",
    "else:\n",
    "    print(\"⚠️ Save failed or file not found.\")\n"
   ]
  }
 ],
 "metadata": {
  "kaggle": {
   "accelerator": "nvidiaTeslaT4",
   "dataSources": [
    {
     "datasetId": 6207571,
     "sourceId": 10071241,
     "sourceType": "datasetVersion"
    },
    {
     "isSourceIdPinned": true,
     "modelId": 277376,
     "modelInstanceId": 256060,
     "sourceId": 299666,
     "sourceType": "modelInstanceVersion"
    }
   ],
   "dockerImageVersionId": 30919,
   "isGpuEnabled": true,
   "isInternetEnabled": true,
   "language": "python",
   "sourceType": "notebook"
  },
  "kernelspec": {
   "display_name": "Python 3",
   "language": "python",
   "name": "python3"
  },
  "language_info": {
   "codemirror_mode": {
    "name": "ipython",
    "version": 3
   },
   "file_extension": ".py",
   "mimetype": "text/x-python",
   "name": "python",
   "nbconvert_exporter": "python",
   "pygments_lexer": "ipython3",
   "version": "3.10.12"
  },
  "papermill": {
   "default_parameters": {},
   "duration": 5589.625488,
   "end_time": "2025-03-24T14:11:55.047206",
   "environment_variables": {},
   "exception": null,
   "input_path": "__notebook__.ipynb",
   "output_path": "__notebook__.ipynb",
   "parameters": {},
   "start_time": "2025-03-24T12:38:45.421718",
   "version": "2.6.0"
  }
 },
 "nbformat": 4,
 "nbformat_minor": 5
}
